{
 "cells": [
  {
   "cell_type": "markdown",
   "id": "7564a9ba",
   "metadata": {},
   "source": [
    "# Import the neccesary libraries"
   ]
  },
  {
   "cell_type": "code",
   "execution_count": 1,
   "id": "94c133da",
   "metadata": {},
   "outputs": [],
   "source": [
    "import pandas as pd #data science essencial\n",
    "import matplotlib.pyplot as plt # data visualization\n",
    "import seaborn as sns # enchanced visualization \n",
    "import numpy as np # mathematical essentials\n",
    "import statsmodels.formula.api as smf # Linear Regression statsmodel\n",
    "from sklearn.linear_model import LinearRegression # Linear Regression with Sklearn\n",
    "from sklearn.metrics import  mean_squared_error\n",
    "from sklearn.model_selection import  train_test_split #train and test split"
   ]
  },
  {
   "cell_type": "markdown",
   "id": "871e8770",
   "metadata": {},
   "source": [
    "##  Setting the path to upload the file"
   ]
  },
  {
   "cell_type": "code",
   "execution_count": 2,
   "id": "9057d10e",
   "metadata": {},
   "outputs": [
    {
     "name": "stdout",
     "output_type": "stream",
     "text": [
      ".DS_Store\n",
      "Sessions 1-4 (Regression Modeling)\n",
      "Assgiment_birthweightD.ipynb\n",
      ".ipynb_checkpoints\n",
      "birthweight_low.xlsx\n",
      "Carpio_Fernando_A1_Regression_Analysis_3.ipynb\n"
     ]
    }
   ],
   "source": [
    "#Setting the path to find the file\n",
    "from os import listdir\n",
    "for items in listdir(path= '..'):\n",
    "    print(items)\n"
   ]
  },
  {
   "cell_type": "code",
   "execution_count": 3,
   "id": "9f4dd8af",
   "metadata": {},
   "outputs": [
    {
     "data": {
      "text/html": [
       "<div>\n",
       "<style scoped>\n",
       "    .dataframe tbody tr th:only-of-type {\n",
       "        vertical-align: middle;\n",
       "    }\n",
       "\n",
       "    .dataframe tbody tr th {\n",
       "        vertical-align: top;\n",
       "    }\n",
       "\n",
       "    .dataframe thead th {\n",
       "        text-align: right;\n",
       "    }\n",
       "</style>\n",
       "<table border=\"1\" class=\"dataframe\">\n",
       "  <thead>\n",
       "    <tr style=\"text-align: right;\">\n",
       "      <th></th>\n",
       "      <th>mage</th>\n",
       "      <th>meduc</th>\n",
       "      <th>monpre</th>\n",
       "      <th>npvis</th>\n",
       "      <th>fage</th>\n",
       "      <th>feduc</th>\n",
       "      <th>omaps</th>\n",
       "      <th>fmaps</th>\n",
       "      <th>cigs</th>\n",
       "      <th>drink</th>\n",
       "      <th>male</th>\n",
       "      <th>mwhte</th>\n",
       "      <th>mblck</th>\n",
       "      <th>moth</th>\n",
       "      <th>fwhte</th>\n",
       "      <th>fblck</th>\n",
       "      <th>foth</th>\n",
       "      <th>bwght</th>\n",
       "    </tr>\n",
       "  </thead>\n",
       "  <tbody>\n",
       "    <tr>\n",
       "      <th>0</th>\n",
       "      <td>69</td>\n",
       "      <td>NaN</td>\n",
       "      <td>5</td>\n",
       "      <td>2.0</td>\n",
       "      <td>62</td>\n",
       "      <td>NaN</td>\n",
       "      <td>4</td>\n",
       "      <td>7</td>\n",
       "      <td>23</td>\n",
       "      <td>9</td>\n",
       "      <td>1</td>\n",
       "      <td>0</td>\n",
       "      <td>1</td>\n",
       "      <td>0</td>\n",
       "      <td>0</td>\n",
       "      <td>1</td>\n",
       "      <td>0</td>\n",
       "      <td>697</td>\n",
       "    </tr>\n",
       "    <tr>\n",
       "      <th>1</th>\n",
       "      <td>68</td>\n",
       "      <td>12.0</td>\n",
       "      <td>3</td>\n",
       "      <td>10.0</td>\n",
       "      <td>61</td>\n",
       "      <td>11.0</td>\n",
       "      <td>4</td>\n",
       "      <td>6</td>\n",
       "      <td>25</td>\n",
       "      <td>11</td>\n",
       "      <td>1</td>\n",
       "      <td>1</td>\n",
       "      <td>0</td>\n",
       "      <td>0</td>\n",
       "      <td>1</td>\n",
       "      <td>0</td>\n",
       "      <td>0</td>\n",
       "      <td>1290</td>\n",
       "    </tr>\n",
       "    <tr>\n",
       "      <th>2</th>\n",
       "      <td>71</td>\n",
       "      <td>12.0</td>\n",
       "      <td>3</td>\n",
       "      <td>6.0</td>\n",
       "      <td>46</td>\n",
       "      <td>12.0</td>\n",
       "      <td>2</td>\n",
       "      <td>7</td>\n",
       "      <td>21</td>\n",
       "      <td>12</td>\n",
       "      <td>1</td>\n",
       "      <td>0</td>\n",
       "      <td>1</td>\n",
       "      <td>0</td>\n",
       "      <td>0</td>\n",
       "      <td>1</td>\n",
       "      <td>0</td>\n",
       "      <td>1490</td>\n",
       "    </tr>\n",
       "    <tr>\n",
       "      <th>3</th>\n",
       "      <td>59</td>\n",
       "      <td>16.0</td>\n",
       "      <td>1</td>\n",
       "      <td>8.0</td>\n",
       "      <td>48</td>\n",
       "      <td>16.0</td>\n",
       "      <td>7</td>\n",
       "      <td>8</td>\n",
       "      <td>21</td>\n",
       "      <td>10</td>\n",
       "      <td>0</td>\n",
       "      <td>0</td>\n",
       "      <td>0</td>\n",
       "      <td>1</td>\n",
       "      <td>0</td>\n",
       "      <td>0</td>\n",
       "      <td>1</td>\n",
       "      <td>1720</td>\n",
       "    </tr>\n",
       "    <tr>\n",
       "      <th>4</th>\n",
       "      <td>48</td>\n",
       "      <td>12.0</td>\n",
       "      <td>4</td>\n",
       "      <td>6.0</td>\n",
       "      <td>39</td>\n",
       "      <td>12.0</td>\n",
       "      <td>2</td>\n",
       "      <td>9</td>\n",
       "      <td>17</td>\n",
       "      <td>13</td>\n",
       "      <td>0</td>\n",
       "      <td>1</td>\n",
       "      <td>0</td>\n",
       "      <td>0</td>\n",
       "      <td>1</td>\n",
       "      <td>0</td>\n",
       "      <td>0</td>\n",
       "      <td>1956</td>\n",
       "    </tr>\n",
       "  </tbody>\n",
       "</table>\n",
       "</div>"
      ],
      "text/plain": [
       "   mage  meduc  monpre  npvis  fage  feduc  omaps  fmaps  cigs  drink  male  \\\n",
       "0    69    NaN       5    2.0    62    NaN      4      7    23      9     1   \n",
       "1    68   12.0       3   10.0    61   11.0      4      6    25     11     1   \n",
       "2    71   12.0       3    6.0    46   12.0      2      7    21     12     1   \n",
       "3    59   16.0       1    8.0    48   16.0      7      8    21     10     0   \n",
       "4    48   12.0       4    6.0    39   12.0      2      9    17     13     0   \n",
       "\n",
       "   mwhte  mblck  moth  fwhte  fblck  foth  bwght  \n",
       "0      0      1     0      0      1     0    697  \n",
       "1      1      0     0      1      0     0   1290  \n",
       "2      0      1     0      0      1     0   1490  \n",
       "3      0      0     1      0      0     1   1720  \n",
       "4      1      0     0      1      0     0   1956  "
      ]
     },
     "execution_count": 3,
     "metadata": {},
     "output_type": "execute_result"
    }
   ],
   "source": [
    "#Exporting the file into Python \n",
    "file = '../birthweight_low.xlsx'\n",
    "\n",
    "#Reading the file\n",
    "birth = pd.read_excel(file)\n",
    "\n",
    "#Printing the first 5 rows\n",
    "birth.head(n=5)"
   ]
  },
  {
   "cell_type": "markdown",
   "id": "cff1fd3e",
   "metadata": {},
   "source": [
    "# Checking the data"
   ]
  },
  {
   "cell_type": "code",
   "execution_count": 4,
   "id": "f5756cb2",
   "metadata": {},
   "outputs": [
    {
     "name": "stdout",
     "output_type": "stream",
     "text": [
      "\n",
      "Size of Original Dataset\n",
      "------------------------\n",
      "Observations: 196\n",
      "Features:     18 \n",
      "\n"
     ]
    }
   ],
   "source": [
    "#Printing number of observations and features\n",
    "print(f\"\"\"\n",
    "Size of Original Dataset\n",
    "------------------------\n",
    "Observations: {birth.shape[0]}\n",
    "Features:     {birth.shape[1]} \n",
    "\"\"\")"
   ]
  },
  {
   "cell_type": "code",
   "execution_count": 5,
   "id": "8fed1fc3",
   "metadata": {},
   "outputs": [
    {
     "name": "stdout",
     "output_type": "stream",
     "text": [
      "mage\n",
      "meduc\n",
      "monpre\n",
      "npvis\n",
      "fage\n",
      "feduc\n",
      "omaps\n",
      "fmaps\n",
      "cigs\n",
      "drink\n",
      "male\n",
      "mwhte\n",
      "mblck\n",
      "moth\n",
      "fwhte\n",
      "fblck\n",
      "foth\n",
      "bwght\n"
     ]
    }
   ],
   "source": [
    "#Printing the column's names\n",
    "for columns in birth:\n",
    "    print(columns)"
   ]
  },
  {
   "cell_type": "code",
   "execution_count": 6,
   "id": "df7b0bb9",
   "metadata": {},
   "outputs": [
    {
     "data": {
      "text/plain": [
       "mage      0\n",
       "meduc     3\n",
       "monpre    0\n",
       "npvis     3\n",
       "fage      0\n",
       "feduc     7\n",
       "omaps     0\n",
       "fmaps     0\n",
       "cigs      0\n",
       "drink     0\n",
       "male      0\n",
       "mwhte     0\n",
       "mblck     0\n",
       "moth      0\n",
       "fwhte     0\n",
       "fblck     0\n",
       "foth      0\n",
       "bwght     0\n",
       "dtype: int64"
      ]
     },
     "execution_count": 6,
     "metadata": {},
     "output_type": "execute_result"
    }
   ],
   "source": [
    "#Showing is there are missing values\n",
    "birth.isnull().sum()"
   ]
  },
  {
   "cell_type": "code",
   "execution_count": 7,
   "id": "ee20c8cc",
   "metadata": {},
   "outputs": [
    {
     "name": "stdout",
     "output_type": "stream",
     "text": [
      "<class 'pandas.core.frame.DataFrame'>\n",
      "RangeIndex: 196 entries, 0 to 195\n",
      "Data columns (total 18 columns):\n",
      " #   Column  Non-Null Count  Dtype  \n",
      "---  ------  --------------  -----  \n",
      " 0   mage    196 non-null    int64  \n",
      " 1   meduc   193 non-null    float64\n",
      " 2   monpre  196 non-null    int64  \n",
      " 3   npvis   193 non-null    float64\n",
      " 4   fage    196 non-null    int64  \n",
      " 5   feduc   189 non-null    float64\n",
      " 6   omaps   196 non-null    int64  \n",
      " 7   fmaps   196 non-null    int64  \n",
      " 8   cigs    196 non-null    int64  \n",
      " 9   drink   196 non-null    int64  \n",
      " 10  male    196 non-null    int64  \n",
      " 11  mwhte   196 non-null    int64  \n",
      " 12  mblck   196 non-null    int64  \n",
      " 13  moth    196 non-null    int64  \n",
      " 14  fwhte   196 non-null    int64  \n",
      " 15  fblck   196 non-null    int64  \n",
      " 16  foth    196 non-null    int64  \n",
      " 17  bwght   196 non-null    int64  \n",
      "dtypes: float64(3), int64(15)\n",
      "memory usage: 27.7 KB\n"
     ]
    }
   ],
   "source": [
    "#Getting information of my data set\n",
    "birth.info()"
   ]
  },
  {
   "cell_type": "markdown",
   "id": "fc6ead10",
   "metadata": {},
   "source": [
    "## Developing Histogram for further analysis "
   ]
  },
  {
   "cell_type": "code",
   "execution_count": 8,
   "id": "6579d0a6",
   "metadata": {},
   "outputs": [
    {
     "data": {
      "image/png": "[encoded data removed]",
      "text/plain": [
       "<Figure size 432x288 with 1 Axes>"
      ]
     },
     "metadata": {
      "needs_background": "light"
     },
     "output_type": "display_data"
    }
   ],
   "source": [
    "# developing a histogram using HISTPLOT\n",
    "sns.histplot(data  = birth,\n",
    "            x     = 'bwght',\n",
    "            kde    = True)\n",
    "\n",
    "\n",
    "# title and axis labels\n",
    "plt.title(label   = \"Original Distribution of Birth weight\")\n",
    "plt.xlabel(xlabel = \"Birth weight\") # avoiding using dataset labels\n",
    "plt.ylabel(ylabel = \"Count\")\n",
    "\n",
    "\n",
    "# displaying the histogram\n",
    "plt.show()"
   ]
  },
  {
   "cell_type": "code",
   "execution_count": 9,
   "id": "f380d984",
   "metadata": {},
   "outputs": [
    {
     "data": {
      "image/png": "[encoded data removed]",
      "text/plain": [
       "<Figure size 432x288 with 1 Axes>"
      ]
     },
     "metadata": {
      "needs_background": "light"
     },
     "output_type": "display_data"
    },
    {
     "data": {
      "image/png": "[encoded data removed]",
      "text/plain": [
       "<Figure size 432x288 with 1 Axes>"
      ]
     },
     "metadata": {
      "needs_background": "light"
     },
     "output_type": "display_data"
    },
    {
     "data": {
      "image/png": "[encoded data removed]",
      "text/plain": [
       "<Figure size 432x288 with 1 Axes>"
      ]
     },
     "metadata": {
      "needs_background": "light"
     },
     "output_type": "display_data"
    },
    {
     "data": {
      "image/png": "[encoded data removed]",
      "text/plain": [
       "<Figure size 432x288 with 1 Axes>"
      ]
     },
     "metadata": {
      "needs_background": "light"
     },
     "output_type": "display_data"
    },
    {
     "data": {
      "image/png": "[encoded data removed]",
      "text/plain": [
       "<Figure size 432x288 with 1 Axes>"
      ]
     },
     "metadata": {
      "needs_background": "light"
     },
     "output_type": "display_data"
    },
    {
     "data": {
      "image/png": "[encoded data removed]",
      "text/plain": [
       "<Figure size 432x288 with 1 Axes>"
      ]
     },
     "metadata": {
      "needs_background": "light"
     },
     "output_type": "display_data"
    },
    {
     "data": {
      "image/png": "[encoded data removed]",
      "text/plain": [
       "<Figure size 432x288 with 1 Axes>"
      ]
     },
     "metadata": {
      "needs_background": "light"
     },
     "output_type": "display_data"
    },
    {
     "data": {
      "image/png": "[encoded data removed]",
      "text/plain": [
       "<Figure size 432x288 with 1 Axes>"
      ]
     },
     "metadata": {
      "needs_background": "light"
     },
     "output_type": "display_data"
    },
    {
     "data": {
      "image/png": "[encoded data removed]",
      "text/plain": [
       "<Figure size 432x288 with 1 Axes>"
      ]
     },
     "metadata": {
      "needs_background": "light"
     },
     "output_type": "display_data"
    },
    {
     "data": {
      "image/png": "[encoded data removed]",
      "text/plain": [
       "<Figure size 432x288 with 1 Axes>"
      ]
     },
     "metadata": {
      "needs_background": "light"
     },
     "output_type": "display_data"
    },
    {
     "data": {
      "image/png": "[encoded data removed]",
      "text/plain": [
       "<Figure size 432x288 with 1 Axes>"
      ]
     },
     "metadata": {
      "needs_background": "light"
     },
     "output_type": "display_data"
    },
    {
     "data": {
      "image/png": "[encoded data removed]",
      "text/plain": [
       "<Figure size 432x288 with 1 Axes>"
      ]
     },
     "metadata": {
      "needs_background": "light"
     },
     "output_type": "display_data"
    },
    {
     "data": {
      "image/png": "[encoded data removed]",
      "text/plain": [
       "<Figure size 432x288 with 1 Axes>"
      ]
     },
     "metadata": {
      "needs_background": "light"
     },
     "output_type": "display_data"
    },
    {
     "data": {
      "image/png": "[encoded data removed]",
      "text/plain": [
       "<Figure size 432x288 with 1 Axes>"
      ]
     },
     "metadata": {
      "needs_background": "light"
     },
     "output_type": "display_data"
    }
   ],
   "source": [
    "# histogram for Lot_Area (skewed positive)\n",
    "sns.histplot(data   = birth,\n",
    "             x      = 'mage',\n",
    "             kde    = True)\n",
    "\n",
    "\n",
    "# rendering the plot\n",
    "plt.show()\n",
    "\n",
    "\n",
    "# histogram for Mas_Vnr_Area (zero inflated and skewed positive)\n",
    "sns.histplot(data   = birth,\n",
    "             x      = 'meduc',\n",
    "             kde    = True)\n",
    "\n",
    "\n",
    "# rendering the plot\n",
    "plt.show()\n",
    "\n",
    "# histogram for Lot_Area (skewed positive)\n",
    "sns.histplot(data   = birth,\n",
    "             x      = 'npvis',\n",
    "             kde    = True)\n",
    "\n",
    "\n",
    "# rendering the plot\n",
    "plt.show()\n",
    "\n",
    "\n",
    "# histogram for Mas_Vnr_Area (zero inflated and skewed positive)\n",
    "sns.histplot(data   = birth,\n",
    "             x      = 'fage',\n",
    "             kde    = True)\n",
    "\n",
    "\n",
    "# rendering the plot\n",
    "plt.show()\n",
    "# histogram for Lot_Area (skewed positive)\n",
    "sns.histplot(data   = birth,\n",
    "             x      = 'feduc',\n",
    "             kde    = True)\n",
    "\n",
    "\n",
    "# rendering the plot\n",
    "plt.show()\n",
    "\n",
    "\n",
    "# histogram for Mas_Vnr_Area (zero inflated and skewed positive)\n",
    "sns.histplot(data   = birth,\n",
    "             x      = 'cigs',\n",
    "             kde    = True)\n",
    "\n",
    "\n",
    "# rendering the plot\n",
    "plt.show()\n",
    "\n",
    "# histogram for Lot_Area (skewed positive)\n",
    "sns.histplot(data   = birth,\n",
    "             x      = 'drink',\n",
    "             kde    = True)\n",
    "\n",
    "\n",
    "# rendering the plot\n",
    "plt.show()\n",
    "\n",
    "\n",
    "# histogram for Mas_Vnr_Area (zero inflated and skewed positive)\n",
    "sns.histplot(data   = birth,\n",
    "             x      = 'male',\n",
    "             kde    = True)\n",
    "\n",
    "\n",
    "# rendering the plot\n",
    "plt.show()\n",
    "\n",
    "# histogram for Lot_Area (skewed positive)\n",
    "sns.histplot(data   = birth,\n",
    "             x      = 'mwhte',\n",
    "             kde    = True)\n",
    "\n",
    "\n",
    "# rendering the plot\n",
    "plt.show()\n",
    "\n",
    "\n",
    "# histogram for Mas_Vnr_Area (zero inflated and skewed positive)\n",
    "sns.histplot(data   = birth,\n",
    "             x      = 'mblck',\n",
    "             kde    = True)\n",
    "\n",
    "\n",
    "# rendering the plot\n",
    "plt.show()\n",
    "\n",
    "# histogram for Lot_Area (skewed positive)\n",
    "sns.histplot(data   = birth,\n",
    "             x      = 'moth',\n",
    "             kde    = True)\n",
    "\n",
    "\n",
    "# rendering the plot\n",
    "plt.show()\n",
    "\n",
    "\n",
    "# histogram for Mas_Vnr_Area (zero inflated and skewed positive)\n",
    "sns.histplot(data   = birth,\n",
    "             x      = 'fwhte',\n",
    "             kde    = True)\n",
    "\n",
    "\n",
    "# rendering the plot\n",
    "plt.show()\n",
    "# histogram for Lot_Area (skewed positive)\n",
    "sns.histplot(data   = birth,\n",
    "             x      = 'fblck',\n",
    "             kde    = True)\n",
    "\n",
    "\n",
    "# rendering the plot\n",
    "plt.show()\n",
    "\n",
    "\n",
    "# histogram for Mas_Vnr_Area (zero inflated and skewed positive)\n",
    "sns.histplot(data   = birth,\n",
    "             x      = 'foth',\n",
    "             kde    = True)\n",
    "\n",
    "\n",
    "# rendering the plot\n",
    "plt.show()\n",
    "\n",
    "\n"
   ]
  },
  {
   "cell_type": "code",
   "execution_count": 10,
   "id": "78889620",
   "metadata": {},
   "outputs": [],
   "source": [
    "#Filling missing values with the median\n",
    "birth['meduc'] = birth['meduc'].fillna(birth['meduc'].median())\n",
    "birth['feduc'] = birth['feduc'].fillna(birth['feduc'].median())\n",
    "birth['npvis'] = birth['npvis'].fillna(birth['npvis'].median())"
   ]
  },
  {
   "cell_type": "code",
   "execution_count": 11,
   "id": "ecb49825",
   "metadata": {},
   "outputs": [
    {
     "data": {
      "text/plain": [
       "mage      0\n",
       "meduc     0\n",
       "monpre    0\n",
       "npvis     0\n",
       "fage      0\n",
       "feduc     0\n",
       "omaps     0\n",
       "fmaps     0\n",
       "cigs      0\n",
       "drink     0\n",
       "male      0\n",
       "mwhte     0\n",
       "mblck     0\n",
       "moth      0\n",
       "fwhte     0\n",
       "fblck     0\n",
       "foth      0\n",
       "bwght     0\n",
       "dtype: int64"
      ]
     },
     "execution_count": 11,
     "metadata": {},
     "output_type": "execute_result"
    }
   ],
   "source": [
    "#Checking is every category is full \n",
    "birth.isnull().sum()"
   ]
  },
  {
   "cell_type": "markdown",
   "id": "fc58eb3b",
   "metadata": {},
   "source": [
    "## Setting the data and creating stats regression analysis "
   ]
  },
  {
   "cell_type": "code",
   "execution_count": 12,
   "id": "86d33c87",
   "metadata": {},
   "outputs": [
    {
     "data": {
      "text/html": [
       "<div>\n",
       "<style scoped>\n",
       "    .dataframe tbody tr th:only-of-type {\n",
       "        vertical-align: middle;\n",
       "    }\n",
       "\n",
       "    .dataframe tbody tr th {\n",
       "        vertical-align: top;\n",
       "    }\n",
       "\n",
       "    .dataframe thead th {\n",
       "        text-align: right;\n",
       "    }\n",
       "</style>\n",
       "<table border=\"1\" class=\"dataframe\">\n",
       "  <thead>\n",
       "    <tr style=\"text-align: right;\">\n",
       "      <th></th>\n",
       "      <th>bwght</th>\n",
       "      <th>mage</th>\n",
       "      <th>meduc</th>\n",
       "      <th>fage</th>\n",
       "      <th>cigs</th>\n",
       "      <th>drink</th>\n",
       "      <th>mwhte</th>\n",
       "      <th>mblck</th>\n",
       "      <th>moth</th>\n",
       "      <th>fwhte</th>\n",
       "      <th>fblck</th>\n",
       "      <th>foth</th>\n",
       "    </tr>\n",
       "  </thead>\n",
       "  <tbody>\n",
       "    <tr>\n",
       "      <th>bwght</th>\n",
       "      <td>1.00</td>\n",
       "      <td>-0.46</td>\n",
       "      <td>0.09</td>\n",
       "      <td>-0.40</td>\n",
       "      <td>-0.57</td>\n",
       "      <td>-0.74</td>\n",
       "      <td>-0.11</td>\n",
       "      <td>0.13</td>\n",
       "      <td>-0.02</td>\n",
       "      <td>-0.04</td>\n",
       "      <td>0.12</td>\n",
       "      <td>-0.08</td>\n",
       "    </tr>\n",
       "    <tr>\n",
       "      <th>mblck</th>\n",
       "      <td>0.13</td>\n",
       "      <td>-0.02</td>\n",
       "      <td>-0.19</td>\n",
       "      <td>-0.06</td>\n",
       "      <td>-0.20</td>\n",
       "      <td>-0.11</td>\n",
       "      <td>-0.48</td>\n",
       "      <td>1.00</td>\n",
       "      <td>-0.57</td>\n",
       "      <td>-0.46</td>\n",
       "      <td>0.89</td>\n",
       "      <td>-0.44</td>\n",
       "    </tr>\n",
       "    <tr>\n",
       "      <th>fblck</th>\n",
       "      <td>0.12</td>\n",
       "      <td>0.04</td>\n",
       "      <td>-0.23</td>\n",
       "      <td>-0.03</td>\n",
       "      <td>-0.19</td>\n",
       "      <td>-0.10</td>\n",
       "      <td>-0.44</td>\n",
       "      <td>0.89</td>\n",
       "      <td>-0.50</td>\n",
       "      <td>-0.53</td>\n",
       "      <td>1.00</td>\n",
       "      <td>-0.48</td>\n",
       "    </tr>\n",
       "    <tr>\n",
       "      <th>meduc</th>\n",
       "      <td>0.09</td>\n",
       "      <td>-0.09</td>\n",
       "      <td>1.00</td>\n",
       "      <td>-0.07</td>\n",
       "      <td>0.10</td>\n",
       "      <td>-0.07</td>\n",
       "      <td>-0.28</td>\n",
       "      <td>-0.19</td>\n",
       "      <td>0.46</td>\n",
       "      <td>-0.18</td>\n",
       "      <td>-0.23</td>\n",
       "      <td>0.43</td>\n",
       "    </tr>\n",
       "    <tr>\n",
       "      <th>moth</th>\n",
       "      <td>-0.02</td>\n",
       "      <td>0.02</td>\n",
       "      <td>0.46</td>\n",
       "      <td>0.03</td>\n",
       "      <td>0.17</td>\n",
       "      <td>-0.04</td>\n",
       "      <td>-0.44</td>\n",
       "      <td>-0.57</td>\n",
       "      <td>1.00</td>\n",
       "      <td>-0.31</td>\n",
       "      <td>-0.50</td>\n",
       "      <td>0.83</td>\n",
       "    </tr>\n",
       "    <tr>\n",
       "      <th>fwhte</th>\n",
       "      <td>-0.04</td>\n",
       "      <td>-0.08</td>\n",
       "      <td>-0.18</td>\n",
       "      <td>-0.03</td>\n",
       "      <td>-0.01</td>\n",
       "      <td>0.07</td>\n",
       "      <td>0.84</td>\n",
       "      <td>-0.46</td>\n",
       "      <td>-0.31</td>\n",
       "      <td>1.00</td>\n",
       "      <td>-0.53</td>\n",
       "      <td>-0.49</td>\n",
       "    </tr>\n",
       "    <tr>\n",
       "      <th>foth</th>\n",
       "      <td>-0.08</td>\n",
       "      <td>0.05</td>\n",
       "      <td>0.43</td>\n",
       "      <td>0.06</td>\n",
       "      <td>0.21</td>\n",
       "      <td>0.02</td>\n",
       "      <td>-0.41</td>\n",
       "      <td>-0.44</td>\n",
       "      <td>0.83</td>\n",
       "      <td>-0.49</td>\n",
       "      <td>-0.48</td>\n",
       "      <td>1.00</td>\n",
       "    </tr>\n",
       "    <tr>\n",
       "      <th>mwhte</th>\n",
       "      <td>-0.11</td>\n",
       "      <td>0.01</td>\n",
       "      <td>-0.28</td>\n",
       "      <td>0.04</td>\n",
       "      <td>0.03</td>\n",
       "      <td>0.16</td>\n",
       "      <td>1.00</td>\n",
       "      <td>-0.48</td>\n",
       "      <td>-0.44</td>\n",
       "      <td>0.84</td>\n",
       "      <td>-0.44</td>\n",
       "      <td>-0.41</td>\n",
       "    </tr>\n",
       "    <tr>\n",
       "      <th>fage</th>\n",
       "      <td>-0.40</td>\n",
       "      <td>0.58</td>\n",
       "      <td>-0.07</td>\n",
       "      <td>1.00</td>\n",
       "      <td>0.17</td>\n",
       "      <td>0.29</td>\n",
       "      <td>0.04</td>\n",
       "      <td>-0.06</td>\n",
       "      <td>0.03</td>\n",
       "      <td>-0.03</td>\n",
       "      <td>-0.03</td>\n",
       "      <td>0.06</td>\n",
       "    </tr>\n",
       "    <tr>\n",
       "      <th>mage</th>\n",
       "      <td>-0.46</td>\n",
       "      <td>1.00</td>\n",
       "      <td>-0.09</td>\n",
       "      <td>0.58</td>\n",
       "      <td>0.17</td>\n",
       "      <td>0.34</td>\n",
       "      <td>0.01</td>\n",
       "      <td>-0.02</td>\n",
       "      <td>0.02</td>\n",
       "      <td>-0.08</td>\n",
       "      <td>0.04</td>\n",
       "      <td>0.05</td>\n",
       "    </tr>\n",
       "    <tr>\n",
       "      <th>cigs</th>\n",
       "      <td>-0.57</td>\n",
       "      <td>0.17</td>\n",
       "      <td>0.10</td>\n",
       "      <td>0.17</td>\n",
       "      <td>1.00</td>\n",
       "      <td>0.36</td>\n",
       "      <td>0.03</td>\n",
       "      <td>-0.20</td>\n",
       "      <td>0.17</td>\n",
       "      <td>-0.01</td>\n",
       "      <td>-0.19</td>\n",
       "      <td>0.21</td>\n",
       "    </tr>\n",
       "    <tr>\n",
       "      <th>drink</th>\n",
       "      <td>-0.74</td>\n",
       "      <td>0.34</td>\n",
       "      <td>-0.07</td>\n",
       "      <td>0.29</td>\n",
       "      <td>0.36</td>\n",
       "      <td>1.00</td>\n",
       "      <td>0.16</td>\n",
       "      <td>-0.11</td>\n",
       "      <td>-0.04</td>\n",
       "      <td>0.07</td>\n",
       "      <td>-0.10</td>\n",
       "      <td>0.02</td>\n",
       "    </tr>\n",
       "  </tbody>\n",
       "</table>\n",
       "</div>"
      ],
      "text/plain": [
       "       bwght  mage  meduc  fage  cigs  drink  mwhte  mblck  moth  fwhte  \\\n",
       "bwght   1.00 -0.46   0.09 -0.40 -0.57  -0.74  -0.11   0.13 -0.02  -0.04   \n",
       "mblck   0.13 -0.02  -0.19 -0.06 -0.20  -0.11  -0.48   1.00 -0.57  -0.46   \n",
       "fblck   0.12  0.04  -0.23 -0.03 -0.19  -0.10  -0.44   0.89 -0.50  -0.53   \n",
       "meduc   0.09 -0.09   1.00 -0.07  0.10  -0.07  -0.28  -0.19  0.46  -0.18   \n",
       "moth   -0.02  0.02   0.46  0.03  0.17  -0.04  -0.44  -0.57  1.00  -0.31   \n",
       "fwhte  -0.04 -0.08  -0.18 -0.03 -0.01   0.07   0.84  -0.46 -0.31   1.00   \n",
       "foth   -0.08  0.05   0.43  0.06  0.21   0.02  -0.41  -0.44  0.83  -0.49   \n",
       "mwhte  -0.11  0.01  -0.28  0.04  0.03   0.16   1.00  -0.48 -0.44   0.84   \n",
       "fage   -0.40  0.58  -0.07  1.00  0.17   0.29   0.04  -0.06  0.03  -0.03   \n",
       "mage   -0.46  1.00  -0.09  0.58  0.17   0.34   0.01  -0.02  0.02  -0.08   \n",
       "cigs   -0.57  0.17   0.10  0.17  1.00   0.36   0.03  -0.20  0.17  -0.01   \n",
       "drink  -0.74  0.34  -0.07  0.29  0.36   1.00   0.16  -0.11 -0.04   0.07   \n",
       "\n",
       "       fblck  foth  \n",
       "bwght   0.12 -0.08  \n",
       "mblck   0.89 -0.44  \n",
       "fblck   1.00 -0.48  \n",
       "meduc  -0.23  0.43  \n",
       "moth   -0.50  0.83  \n",
       "fwhte  -0.53 -0.49  \n",
       "foth   -0.48  1.00  \n",
       "mwhte  -0.44 -0.41  \n",
       "fage   -0.03  0.06  \n",
       "mage    0.04  0.05  \n",
       "cigs   -0.19  0.21  \n",
       "drink  -0.10  0.02  "
      ]
     },
     "execution_count": 12,
     "metadata": {},
     "output_type": "execute_result"
    }
   ],
   "source": [
    "#Setting up the variable data with all my categories\n",
    "data = ['bwght','mage','meduc', 'fage', 'cigs', 'drink', 'mwhte', 'mblck', 'moth', \n",
    "       'fwhte', 'fblck', 'foth']\n",
    "\n",
    "#Getting a Pearson correlations \n",
    "birth_corr = birth[data].corr(method = 'pearson').round(decimals = 2)\n",
    "\n",
    "#Printing that correlation\n",
    "birth_corr.loc[ : , data].round(decimals = 2).sort_values(ascending = False,\n",
    "                                                            by = 'bwght')"
   ]
  },
  {
   "cell_type": "code",
   "execution_count": 13,
   "id": "74bfd95f",
   "metadata": {
    "code_folding": []
   },
   "outputs": [
    {
     "name": "stdout",
     "output_type": "stream",
     "text": [
      "                            OLS Regression Results                            \n",
      "==============================================================================\n",
      "Dep. Variable:                  bwght   R-squared:                       0.712\n",
      "Model:                            OLS   Adj. R-squared:                  0.700\n",
      "Method:                 Least Squares   F-statistic:                     57.75\n",
      "Date:                Wed, 24 Nov 2021   Prob (F-statistic):           1.57e-46\n",
      "Time:                        01:28:21   Log-Likelihood:                -1424.2\n",
      "No. Observations:                 196   AIC:                             2866.\n",
      "Df Residuals:                     187   BIC:                             2896.\n",
      "Df Model:                           8                                         \n",
      "Covariance Type:            nonrobust                                         \n",
      "==============================================================================\n",
      "                 coef    std err          t      P>|t|      [0.025      0.975]\n",
      "------------------------------------------------------------------------------\n",
      "Intercept   2732.6148    141.225     19.349      0.000    2454.016    3011.214\n",
      "mage         -13.9878      2.681     -5.218      0.000     -19.276      -8.699\n",
      "meduc         27.5164     14.406      1.910      0.058      -0.902      55.935\n",
      "cigs         -36.9275      4.586     -8.053      0.000     -45.974     -27.881\n",
      "drink       -116.8113      9.666    -12.084      0.000    -135.880     -97.742\n",
      "mwhte        979.3199     83.838     11.681      0.000     813.930    1144.710\n",
      "mblck        838.9277     89.950      9.327      0.000     661.481    1016.374\n",
      "moth         914.3672     87.471     10.453      0.000     741.810    1086.924\n",
      "fwhte        848.8163     80.490     10.546      0.000     690.032    1007.601\n",
      "fblck        998.0896     90.695     11.005      0.000     819.173    1177.007\n",
      "foth         885.7089     87.950     10.071      0.000     712.207    1059.210\n",
      "==============================================================================\n",
      "Omnibus:                        5.715   Durbin-Watson:                   1.292\n",
      "Prob(Omnibus):                  0.057   Jarque-Bera (JB):                7.145\n",
      "Skew:                          -0.189   Prob(JB):                       0.0281\n",
      "Kurtosis:                       3.855   Cond. No.                     4.14e+17\n",
      "==============================================================================\n",
      "\n",
      "Notes:\n",
      "[1] Standard Errors assume that the covariance matrix of the errors is correctly specified.\n",
      "[2] The smallest eigenvalue is 2.34e-30. This might indicate that there are\n",
      "strong multicollinearity problems or that the design matrix is singular.\n"
     ]
    }
   ],
   "source": [
    "# Step 1: INSTANTIATE a model object with statsmodel regression\n",
    "lm_best = smf.ols(formula = \"\"\"bwght ~  mage +  \n",
    "                                        meduc +   \n",
    "                                       \n",
    "                                           \n",
    "                                              \n",
    "                                        cigs  +  \n",
    "                                        drink +   \n",
    "                                           \n",
    "                                        mwhte +   \n",
    "                                        mblck +   \n",
    "                                        moth  +   \n",
    "                                        fwhte +   \n",
    "                                        fblck  +   \n",
    "                                        foth      \"\"\",\n",
    "                  data = birth)\n",
    "\n",
    "\n",
    "# Step 2: FIT the data into the model object\n",
    "results = lm_best.fit()\n",
    "\n",
    "\n",
    "# Step 3: analyze the SUMMARY output\n",
    "print(results.summary())"
   ]
  },
  {
   "cell_type": "code",
   "execution_count": 14,
   "id": "a8607ef3",
   "metadata": {},
   "outputs": [
    {
     "data": {
      "text/plain": [
       "mage      0.922193\n",
       "meduc    -0.071834\n",
       "monpre    2.031858\n",
       "npvis     2.226209\n",
       "fage      1.120425\n",
       "feduc    -1.338531\n",
       "omaps    -2.641176\n",
       "fmaps    -2.551277\n",
       "cigs      0.031881\n",
       "drink     0.234876\n",
       "male     -0.206738\n",
       "mwhte     1.041790\n",
       "mblck     0.486607\n",
       "moth      0.648090\n",
       "fwhte     0.648090\n",
       "fblck     0.672052\n",
       "foth      0.821757\n",
       "bwght    -0.659832\n",
       "dtype: float64"
      ]
     },
     "execution_count": 14,
     "metadata": {},
     "output_type": "execute_result"
    }
   ],
   "source": [
    "#Checking the skewness of the x-variables\n",
    "birth.skew(axis=0)"
   ]
  },
  {
   "cell_type": "code",
   "execution_count": 15,
   "id": "ac3b6acb",
   "metadata": {},
   "outputs": [],
   "source": [
    "#Setting the x-variables to apply train-test-split\n",
    "birth_data   = birth.drop('bwght', axis = 1)\n",
    "birth_target = birth.loc [ :, 'bwght' ]"
   ]
  },
  {
   "cell_type": "code",
   "execution_count": 16,
   "id": "1e289837",
   "metadata": {},
   "outputs": [],
   "source": [
    "#Spliting the data into train and test\n",
    "X_train, X_test, y_train, y_test = train_test_split(birth_data, birth_target, \n",
    "                                                    test_size = 0.25, random_state = 219)"
   ]
  },
  {
   "cell_type": "code",
   "execution_count": 17,
   "id": "57bb0cd2",
   "metadata": {},
   "outputs": [
    {
     "name": "stdout",
     "output_type": "stream",
     "text": [
      "\n",
      "Training Data\n",
      "-------------\n",
      "X-side: (147, 17)\n",
      "y-side: (147,)\n",
      "\n",
      "\n",
      "Testing Data\n",
      "------------\n",
      "X-side: (49, 17)\n",
      "y-side: (49,)\n",
      "\n"
     ]
    }
   ],
   "source": [
    "#Printing the out come of the split\n",
    "print(f\"\"\"\n",
    "Training Data\n",
    "-------------\n",
    "X-side: {X_train.shape}\n",
    "y-side: {y_train.shape}\n",
    "\n",
    "\n",
    "Testing Data\n",
    "------------\n",
    "X-side: {X_test.shape}\n",
    "y-side: {y_test.shape}\n",
    "\"\"\")"
   ]
  },
  {
   "cell_type": "code",
   "execution_count": 18,
   "id": "4bdb8233",
   "metadata": {},
   "outputs": [
    {
     "name": "stdout",
     "output_type": "stream",
     "text": [
      "                            OLS Regression Results                            \n",
      "==============================================================================\n",
      "Dep. Variable:                  bwght   R-squared:                       0.725\n",
      "Model:                            OLS   Adj. R-squared:                  0.709\n",
      "Method:                 Least Squares   F-statistic:                     45.43\n",
      "Date:                Wed, 24 Nov 2021   Prob (F-statistic):           5.00e-35\n",
      "Time:                        01:28:21   Log-Likelihood:                -1069.8\n",
      "No. Observations:                 147   AIC:                             2158.\n",
      "Df Residuals:                     138   BIC:                             2185.\n",
      "Df Model:                           8                                         \n",
      "Covariance Type:            nonrobust                                         \n",
      "==============================================================================\n",
      "                 coef    std err          t      P>|t|      [0.025      0.975]\n",
      "------------------------------------------------------------------------------\n",
      "Intercept   2747.0934    161.043     17.058      0.000    2428.662    3065.525\n",
      "mage         -17.8871      3.090     -5.789      0.000     -23.997     -11.778\n",
      "meduc         37.6018     16.735      2.247      0.026       4.511      70.693\n",
      "cigs         -39.0848      5.280     -7.402      0.000     -49.525     -28.645\n",
      "drink       -109.0500     11.627     -9.379      0.000    -132.040     -86.060\n",
      "mwhte       1037.9392    110.247      9.415      0.000     819.948    1255.931\n",
      "mblck        857.9248    115.923      7.401      0.000     628.710    1087.140\n",
      "moth         851.2294     99.242      8.577      0.000     654.998    1047.461\n",
      "fwhte        819.8457    102.291      8.015      0.000     617.585    1022.107\n",
      "fblck       1004.4826    116.723      8.606      0.000     773.687    1235.278\n",
      "foth         922.7651    104.794      8.806      0.000     715.556    1129.974\n",
      "==============================================================================\n",
      "Omnibus:                        5.278   Durbin-Watson:                   1.858\n",
      "Prob(Omnibus):                  0.071   Jarque-Bera (JB):                6.193\n",
      "Skew:                          -0.221   Prob(JB):                       0.0452\n",
      "Kurtosis:                       3.903   Cond. No.                     4.27e+17\n",
      "==============================================================================\n",
      "\n",
      "Notes:\n",
      "[1] Standard Errors assume that the covariance matrix of the errors is correctly specified.\n",
      "[2] The smallest eigenvalue is 1.69e-30. This might indicate that there are\n",
      "strong multicollinearity problems or that the design matrix is singular.\n"
     ]
    }
   ],
   "source": [
    "# merging X_train and y_train so that they can be used in statsmodels\n",
    "birth_train = pd.concat([X_train, y_train], axis = 1)\n",
    "\n",
    "lm_best = smf.ols(formula =  \"\"\"bwght ~ mage +  \n",
    "                                        meduc +                       \n",
    "                                        cigs  +  \n",
    "                                        drink +   \n",
    "                                        mwhte +   \n",
    "                                        mblck +   \n",
    "                                        moth  +   \n",
    "                                        fwhte +   \n",
    "                                        fblck  +   \n",
    "                                        foth      \"\"\",\n",
    "                  data = birth_train)\n",
    "\n",
    "\n",
    "# Step 2: fit the model based on the data\n",
    "results = lm_best.fit()\n",
    "\n",
    "\n",
    "\n",
    "# Step 3: analyze the summary output\n",
    "print(results.summary())\n"
   ]
  },
  {
   "cell_type": "code",
   "execution_count": 19,
   "id": "f1199645",
   "metadata": {},
   "outputs": [],
   "source": [
    "#Applying feature engineering to the data\n",
    "#Geting the log values of two variables\n",
    "birth['log_cigs'] = np.log(birth['cigs'] + 0.001)\n",
    "birth['log_drink'] = np.log(birth['drink'] + 0.001)"
   ]
  },
  {
   "cell_type": "code",
   "execution_count": 20,
   "id": "54e2df6a",
   "metadata": {},
   "outputs": [
    {
     "name": "stdout",
     "output_type": "stream",
     "text": [
      "                            OLS Regression Results                            \n",
      "==============================================================================\n",
      "Dep. Variable:                  bwght   R-squared:                       0.450\n",
      "Model:                            OLS   Adj. R-squared:                  0.427\n",
      "Method:                 Least Squares   F-statistic:                     19.13\n",
      "Date:                Wed, 24 Nov 2021   Prob (F-statistic):           7.21e-21\n",
      "Time:                        01:28:21   Log-Likelihood:                -1487.5\n",
      "No. Observations:                 196   AIC:                             2993.\n",
      "Df Residuals:                     187   BIC:                             3023.\n",
      "Df Model:                           8                                         \n",
      "Covariance Type:            nonrobust                                         \n",
      "==============================================================================\n",
      "                 coef    std err          t      P>|t|      [0.025      0.975]\n",
      "------------------------------------------------------------------------------\n",
      "Intercept   2545.3614    194.204     13.107      0.000    2162.249    2928.474\n",
      "mage         -24.9904      3.545     -7.050      0.000     -31.984     -17.997\n",
      "meduc         26.7994     19.923      1.345      0.180     -12.504      66.102\n",
      "log_cigs     -94.7300     18.000     -5.263      0.000    -130.239     -59.221\n",
      "log_drink    -92.0567     18.027     -5.107      0.000    -127.619     -56.494\n",
      "mwhte        871.2850    115.379      7.551      0.000     643.673    1098.897\n",
      "mblck        796.6564    124.353      6.406      0.000     551.342    1041.971\n",
      "moth         877.4200    120.864      7.260      0.000     638.988    1115.852\n",
      "fwhte        778.9246    111.480      6.987      0.000     559.005     998.844\n",
      "fblck        991.7356    125.410      7.908      0.000     744.335    1239.136\n",
      "foth         774.7012    121.193      6.392      0.000     535.619    1013.783\n",
      "==============================================================================\n",
      "Omnibus:                        3.849   Durbin-Watson:                   0.717\n",
      "Prob(Omnibus):                  0.146   Jarque-Bera (JB):                3.421\n",
      "Skew:                          -0.288   Prob(JB):                        0.181\n",
      "Kurtosis:                       3.295   Cond. No.                     4.01e+17\n",
      "==============================================================================\n",
      "\n",
      "Notes:\n",
      "[1] Standard Errors assume that the covariance matrix of the errors is correctly specified.\n",
      "[2] The smallest eigenvalue is 2.32e-30. This might indicate that there are\n",
      "strong multicollinearity problems or that the design matrix is singular.\n"
     ]
    }
   ],
   "source": [
    "# merging X_train and y_train so that they can be used in statsmodels\n",
    "\n",
    "\n",
    "lm_best = smf.ols(formula =  \"\"\"bwght ~ mage +  \n",
    "                                        meduc +                       \n",
    "                                        log_cigs  +  \n",
    "                                        log_drink +   \n",
    "                                        mwhte +   \n",
    "                                        mblck +   \n",
    "                                        moth  +   \n",
    "                                        fwhte +   \n",
    "                                        fblck  +   \n",
    "                                        foth      \"\"\",\n",
    "                  data = birth)\n",
    "\n",
    "\n",
    "# Step 2: fit the model based on the data\n",
    "results = lm_best.fit()\n",
    "\n",
    "\n",
    "\n",
    "# Step 3: analyze the summary output\n",
    "print(results.summary())\n"
   ]
  },
  {
   "cell_type": "code",
   "execution_count": 21,
   "id": "486da1b8",
   "metadata": {},
   "outputs": [
    {
     "name": "stdout",
     "output_type": "stream",
     "text": [
      "                            OLS Regression Results                            \n",
      "==============================================================================\n",
      "Dep. Variable:              log_bwght   R-squared:                       0.779\n",
      "Model:                            OLS   Adj. R-squared:                  0.728\n",
      "Method:                 Least Squares   F-statistic:                     15.30\n",
      "Date:                Wed, 24 Nov 2021   Prob (F-statistic):           2.89e-10\n",
      "Time:                        01:28:21   Log-Likelihood:                 52.347\n",
      "No. Observations:                  49   AIC:                            -84.69\n",
      "Df Residuals:                      39   BIC:                            -65.77\n",
      "Df Model:                           9                                         \n",
      "Covariance Type:            nonrobust                                         \n",
      "==============================================================================\n",
      "                 coef    std err          t      P>|t|      [0.025      0.975]\n",
      "------------------------------------------------------------------------------\n",
      "Intercept      5.0155      0.099     50.907      0.000       4.816       5.215\n",
      "mage          -0.0009      0.002     -0.529      0.600      -0.004       0.002\n",
      "meduc          0.0014      0.008      0.160      0.874      -0.016       0.019\n",
      "npvis          0.0037      0.005      0.763      0.450      -0.006       0.014\n",
      "cigs          -0.0063      0.003     -2.104      0.042      -0.012      -0.000\n",
      "drink         -0.0455      0.006     -8.147      0.000      -0.057      -0.034\n",
      "mwhte          1.6165      0.046     34.963      0.000       1.523       1.710\n",
      "mblck          1.6600      0.043     38.489      0.000       1.573       1.747\n",
      "moth           1.7391      0.056     30.884      0.000       1.625       1.853\n",
      "fwhte          1.6810      0.043     39.147      0.000       1.594       1.768\n",
      "fblck          1.7158      0.047     36.849      0.000       1.622       1.810\n",
      "foth           1.6187      0.052     31.032      0.000       1.513       1.724\n",
      "==============================================================================\n",
      "Omnibus:                        0.145   Durbin-Watson:                   1.874\n",
      "Prob(Omnibus):                  0.930   Jarque-Bera (JB):                0.340\n",
      "Skew:                           0.072   Prob(JB):                        0.844\n",
      "Kurtosis:                       2.618   Cond. No.                     1.20e+18\n",
      "==============================================================================\n",
      "\n",
      "Notes:\n",
      "[1] Standard Errors assume that the covariance matrix of the errors is correctly specified.\n",
      "[2] The smallest eigenvalue is 7.06e-32. This might indicate that there are\n",
      "strong multicollinearity problems or that the design matrix is singular.\n"
     ]
    }
   ],
   "source": [
    "# merging X_train and y_train so that they can be used in statsmodels\n",
    "birth_train = pd.concat([X_test, y_test], axis = 1)\n",
    "\n",
    "birth_train['log_bwght'] = np.log(birth_train['bwght'] + 0.001)\n",
    "\n",
    "lm_best = smf.ols(formula =  \"\"\"log_bwght ~ mage +  \n",
    "                                            meduc + \n",
    "                                            npvis +\n",
    "                                            cigs  +  \n",
    "                                            drink +   \n",
    "                                            mwhte +   \n",
    "                                            mblck +   \n",
    "                                            moth  +   \n",
    "                                            fwhte +   \n",
    "                                            fblck  +   \n",
    "                                            foth      \"\"\",\n",
    "                  data = birth_train)\n",
    "\n",
    "\n",
    "# Step 2: fit the model based on the data\n",
    "results = lm_best.fit()\n",
    "\n",
    "\n",
    "\n",
    "# Step 3: analyze the summary output\n",
    "print(results.summary())\n"
   ]
  },
  {
   "cell_type": "code",
   "execution_count": 22,
   "id": "104c6adf",
   "metadata": {},
   "outputs": [],
   "source": [
    "#Merging age with cigs \n",
    "birth['mage_cigs'] = birth['mage'] * (birth['cigs'])\n",
    "#Mergins age with pre-natal visits\n",
    "birth['meduc_npvis'] = birth['meduc'] * (birth['npvis'])"
   ]
  },
  {
   "cell_type": "code",
   "execution_count": 23,
   "id": "e37ff056",
   "metadata": {},
   "outputs": [
    {
     "name": "stdout",
     "output_type": "stream",
     "text": [
      "                            OLS Regression Results                            \n",
      "==============================================================================\n",
      "Dep. Variable:              log_bwght   R-squared:                       0.695\n",
      "Model:                            OLS   Adj. R-squared:                  0.682\n",
      "Method:                 Least Squares   F-statistic:                     53.25\n",
      "Date:                Wed, 24 Nov 2021   Prob (F-statistic):           3.05e-44\n",
      "Time:                        01:28:21   Log-Likelihood:                 124.97\n",
      "No. Observations:                 196   AIC:                            -231.9\n",
      "Df Residuals:                     187   BIC:                            -202.4\n",
      "Df Model:                           8                                         \n",
      "Covariance Type:            nonrobust                                         \n",
      "===============================================================================\n",
      "                  coef    std err          t      P>|t|      [0.025      0.975]\n",
      "-------------------------------------------------------------------------------\n",
      "Intercept       5.0965      0.031    163.404      0.000       5.035       5.158\n",
      "mage_cigs      -0.0004   3.67e-05     -9.899      0.000      -0.000      -0.000\n",
      "meduc_npvis     0.0003      0.000      1.860      0.064   -1.67e-05       0.001\n",
      "fage           -0.0024      0.001     -2.106      0.037      -0.005      -0.000\n",
      "drink          -0.0350      0.004     -9.712      0.000      -0.042      -0.028\n",
      "mwhte           1.7215      0.030     57.591      0.000       1.662       1.780\n",
      "mblck           1.6734      0.029     56.796      0.000       1.615       1.732\n",
      "moth            1.7017      0.026     64.409      0.000       1.650       1.754\n",
      "fwhte           1.6702      0.026     65.357      0.000       1.620       1.721\n",
      "fblck           1.7147      0.032     54.321      0.000       1.652       1.777\n",
      "foth            1.7117      0.028     61.411      0.000       1.657       1.767\n",
      "==============================================================================\n",
      "Omnibus:                      104.040   Durbin-Watson:                   1.295\n",
      "Prob(Omnibus):                  0.000   Jarque-Bera (JB):             1144.207\n",
      "Skew:                          -1.716   Prob(JB):                    3.46e-249\n",
      "Kurtosis:                      14.328   Cond. No.                     6.30e+18\n",
      "==============================================================================\n",
      "\n",
      "Notes:\n",
      "[1] Standard Errors assume that the covariance matrix of the errors is correctly specified.\n",
      "[2] The smallest eigenvalue is 1.56e-30. This might indicate that there are\n",
      "strong multicollinearity problems or that the design matrix is singular.\n"
     ]
    }
   ],
   "source": [
    "# merging X_train and y_train so that they can be used in statsmodels\n",
    "birth['log_bwght'] = np.log(birth['bwght'] + 0.99)\n",
    "\n",
    "lm_best = smf.ols(formula =  \"\"\"log_bwght ~ mage_cigs +  \n",
    "                                           meduc_npvis+\n",
    "                                           fage+\n",
    "                                            drink +   \n",
    "                                            mwhte +   \n",
    "                                            mblck +   \n",
    "                                            moth  +   \n",
    "                                            fwhte +   \n",
    "                                            fblck  +   \n",
    "                                            foth      \"\"\",\n",
    "                  data = birth)\n",
    "\n",
    "\n",
    "# Step 2: fit the model based on the data\n",
    "results = lm_best.fit()\n",
    "\n",
    "\n",
    "\n",
    "# Step 3: analyze the summary output\n",
    "print(results.summary())\n"
   ]
  },
  {
   "cell_type": "code",
   "execution_count": 24,
   "id": "031e8b3c",
   "metadata": {},
   "outputs": [
    {
     "name": "stdout",
     "output_type": "stream",
     "text": [
      "                            OLS Regression Results                            \n",
      "==============================================================================\n",
      "Dep. Variable:                  bwght   R-squared:                       0.720\n",
      "Model:                            OLS   Adj. R-squared:                  0.707\n",
      "Method:                 Least Squares   F-statistic:                     53.23\n",
      "Date:                Wed, 24 Nov 2021   Prob (F-statistic):           8.02e-47\n",
      "Time:                        01:28:21   Log-Likelihood:                -1421.2\n",
      "No. Observations:                 196   AIC:                             2862.\n",
      "Df Residuals:                     186   BIC:                             2895.\n",
      "Df Model:                           9                                         \n",
      "Covariance Type:            nonrobust                                         \n",
      "==============================================================================\n",
      "                 coef    std err          t      P>|t|      [0.025      0.975]\n",
      "------------------------------------------------------------------------------\n",
      "Intercept   2463.9717    149.661     16.464      0.000    2168.720    2759.224\n",
      "mage_cigs     -0.8849      0.098     -9.009      0.000      -1.079      -0.691\n",
      "meduc         18.7489     16.274      1.152      0.251     -13.357      50.855\n",
      "feduc         14.9028     13.690      1.089      0.278     -12.105      41.910\n",
      "fage          -5.6548      3.076     -1.838      0.068     -11.724       0.414\n",
      "drink       -113.3129      9.644    -11.749      0.000    -132.339     -94.286\n",
      "mwhte        905.9451     82.815     10.939      0.000     742.567    1069.323\n",
      "mblck        751.6753     92.095      8.162      0.000     569.991     933.360\n",
      "moth         806.3512     89.022      9.058      0.000     630.728     981.974\n",
      "fwhte        761.7894     81.674      9.327      0.000     600.663     922.916\n",
      "fblck        906.5391     88.741     10.216      0.000     731.470    1081.608\n",
      "foth         795.6432     91.673      8.679      0.000     614.791     976.496\n",
      "==============================================================================\n",
      "Omnibus:                        2.078   Durbin-Watson:                   1.327\n",
      "Prob(Omnibus):                  0.354   Jarque-Bera (JB):                1.925\n",
      "Skew:                           0.016   Prob(JB):                        0.382\n",
      "Kurtosis:                       3.484   Cond. No.                     6.29e+18\n",
      "==============================================================================\n",
      "\n",
      "Notes:\n",
      "[1] Standard Errors assume that the covariance matrix of the errors is correctly specified.\n",
      "[2] The smallest eigenvalue is 1.47e-30. This might indicate that there are\n",
      "strong multicollinearity problems or that the design matrix is singular.\n"
     ]
    }
   ],
   "source": [
    "# merging X_train and y_train so that they can be used in statsmodels\n",
    "\n",
    "lm_best = smf.ols(formula =  \"\"\"bwght ~    mage_cigs +  \n",
    "                                            meduc+\n",
    "                                            feduc+\n",
    "                                            fage+\n",
    "                                            drink +   \n",
    "                                            mwhte +   \n",
    "                                            mblck +   \n",
    "                                            moth  +   \n",
    "                                            fwhte +   \n",
    "                                            fblck  +   \n",
    "                                            foth      \"\"\",\n",
    "                  data = birth)\n",
    "\n",
    "\n",
    "# Step 2: fit the model based on the data\n",
    "results = lm_best.fit()\n",
    "\n",
    "\n",
    "\n",
    "# Step 3: analyze the summary output\n",
    "print(results.summary())\n"
   ]
  },
  {
   "cell_type": "markdown",
   "id": "530f205d",
   "metadata": {},
   "source": [
    "## Creation of boxplots to compare data "
   ]
  },
  {
   "cell_type": "code",
   "execution_count": 25,
   "id": "a01a7f1f",
   "metadata": {},
   "outputs": [
    {
     "data": {
      "image/png": "[encoded data removed]",
      "text/plain": [
       "<Figure size 720x576 with 1 Axes>"
      ]
     },
     "metadata": {
      "needs_background": "light"
     },
     "output_type": "display_data"
    },
    {
     "data": {
      "image/png": "[encoded data removed]",
      "text/plain": [
       "<Figure size 720x576 with 1 Axes>"
      ]
     },
     "metadata": {
      "needs_background": "light"
     },
     "output_type": "display_data"
    },
    {
     "data": {
      "image/png": "[encoded data removed]",
      "text/plain": [
       "<Figure size 720x576 with 1 Axes>"
      ]
     },
     "metadata": {
      "needs_background": "light"
     },
     "output_type": "display_data"
    },
    {
     "data": {
      "image/png": "[encoded data removed]",
      "text/plain": [
       "<Figure size 720x576 with 1 Axes>"
      ]
     },
     "metadata": {
      "needs_background": "light"
     },
     "output_type": "display_data"
    },
    {
     "data": {
      "image/png": "[encoded data removed]",
      "text/plain": [
       "<Figure size 720x576 with 1 Axes>"
      ]
     },
     "metadata": {
      "needs_background": "light"
     },
     "output_type": "display_data"
    },
    {
     "data": {
      "image/png": "[encoded data removed]",
      "text/plain": [
       "<Figure size 432x288 with 1 Axes>"
      ]
     },
     "metadata": {
      "needs_background": "light"
     },
     "output_type": "display_data"
    }
   ],
   "source": [
    "#Creating boxplots to compare data\n",
    "\n",
    "# setting figure size\n",
    "fig, ax = plt.subplots(figsize = (10, 8))\n",
    "\n",
    "\n",
    "## Plot 1: Original X, Original Y ##\n",
    "sns.boxplot(x     = 'mage',\n",
    "            y     = 'bwght',\n",
    "            data  = birth)\n",
    "\n",
    "\n",
    "# titles and labels\n",
    "plt.title(label   = 'Original X, Original Y')\n",
    "plt.xlabel(xlabel = 'mage')\n",
    "plt.ylabel(ylabel = 'bwght')\n",
    "\n",
    "\n",
    "## displaying the visual ##\n",
    "plt.tight_layout()\n",
    "plt.show()\n",
    "\n",
    "# setting figure size\n",
    "fig, ax = plt.subplots(figsize = (10, 8))\n",
    "\n",
    "\n",
    "## Plot 1: Original X, Original Y ##\n",
    "sns.boxplot(x     = 'meduc',\n",
    "            y     = 'bwght',\n",
    "            data  = birth)\n",
    "\n",
    "\n",
    "# titles and labels\n",
    "plt.title(label   = 'Original X, Original Y')\n",
    "plt.xlabel(xlabel = 'meduc')\n",
    "plt.ylabel(ylabel = 'bwght')\n",
    "\n",
    "\n",
    "## displaying the visual ##\n",
    "plt.tight_layout()\n",
    "plt.show()\n",
    "\n",
    "# setting figure size\n",
    "fig, ax = plt.subplots(figsize = (10, 8))\n",
    "\n",
    "\n",
    "## Plot 1: Original X, Original Y ##\n",
    "sns.boxplot(x     = 'cigs',\n",
    "            y     = 'bwght',\n",
    "            data  = birth)\n",
    "\n",
    "\n",
    "# titles and labels\n",
    "plt.title(label   = 'Original X, Original Y')\n",
    "plt.xlabel(xlabel = 'cigs')\n",
    "plt.ylabel(ylabel = 'bwght')\n",
    "\n",
    "\n",
    "## displaying the visual ##\n",
    "plt.tight_layout()\n",
    "plt.show()\n",
    "\n",
    "\n",
    "\n",
    "# setting figure size\n",
    "fig, ax = plt.subplots(figsize = (10, 8))\n",
    "\n",
    "\n",
    "## Plot 1: Original X, Original Y ##\n",
    "sns.boxplot(x     = 'fage',\n",
    "            y     = 'bwght',\n",
    "            data  = birth)\n",
    "\n",
    "\n",
    "# titles and labels\n",
    "plt.title(label   = 'Original X, Original Y')\n",
    "plt.xlabel(xlabel = 'fage')\n",
    "plt.ylabel(ylabel = 'bwght')\n",
    "\n",
    "\n",
    "## displaying the visual ##\n",
    "plt.tight_layout()\n",
    "plt.show()\n",
    "\n",
    "# setting figure size\n",
    "fig, ax = plt.subplots(figsize = (10, 8))\n",
    "\n",
    "\n",
    "## Plot 1: Original X, Original Y ##\n",
    "sns.boxplot(x     = 'drink',\n",
    "            y     = 'bwght',\n",
    "            data  = birth)\n",
    "\n",
    "\n",
    "# titles and labels\n",
    "plt.title(label   = 'Original X, Original Y')\n",
    "plt.xlabel(xlabel = 'drink')\n",
    "plt.ylabel(ylabel = 'bwght')\n",
    "\n",
    "\n",
    "## displaying the visual ##\n",
    "plt.tight_layout()\n",
    "plt.show()\n",
    "\n",
    "## Plot 1: Original X, Original Y ##\n",
    "sns.boxplot(x     = 'npvis',\n",
    "            y     = 'bwght',\n",
    "            data  = birth)\n",
    "\n",
    "\n",
    "# titles and labels\n",
    "plt.title(label   = 'Original X, Original Y')\n",
    "plt.xlabel(xlabel = 'npvis')\n",
    "plt.ylabel(ylabel = 'bwght')\n",
    "\n",
    "\n",
    "## displaying the visual ##\n",
    "plt.tight_layout()\n",
    "plt.show()\n"
   ]
  },
  {
   "cell_type": "markdown",
   "id": "bb8d63d4",
   "metadata": {},
   "source": [
    "# Feature engineering the data"
   ]
  },
  {
   "cell_type": "code",
   "execution_count": 26,
   "id": "6bbd2fa4",
   "metadata": {},
   "outputs": [],
   "source": [
    "birth['mage_cigs'] = birth['mage'] * (birth['cigs'])\n",
    "birth['mage_drink'] = birth['mage'] *(birth['drink'])\n",
    "birth['meduc_npvis'] = birth['meduc'] + (birth['npvis'])\n",
    "birth['cigs_drink'] = birth['cigs'] * (birth['drink'])\n",
    "birth['mwhte_cigs']= birth['mwhte'] *(birth['cigs'])\n",
    "birth['moth_cigs'] = birth['moth'] *(birth['cigs'])\n",
    "birth['log_monpre'] = np.log(birth['monpre'] + 0.001)\n",
    "birth['log_cigs_drink'] = np.log(birth['mwhte_cigs'] + 0.001)\n",
    "birth['log_feduc'] = np.log(birth['feduc'] + 0.001)\n",
    "birth['log_meduc'] = np.log(birth['meduc']+0.001)\n",
    "birth.loc[: , 'n_cigs'] = 0\n",
    "birth.loc[: , 'n_drink'] = 0\n",
    "birth.loc[:, 'n_mage'] = 0\n",
    "birth.loc[:, 'n_npvis'] = 0\n",
    "\n",
    "for row, col in birth.iterrows():\n",
    "    if birth.loc[row, 'mage']>= 45:\n",
    "        birth.loc[row,'n_mage'] = 45\n",
    "    elif birth.loc[row, 'mage'] < 45:\n",
    "        birth.loc[row, 'n_mage'] = birth.loc[row, 'mage']\n",
    "    else: \n",
    "        print('Error')\n",
    "\n",
    "for row, col in birth.iterrows():\n",
    "    if birth.loc[row, 'cigs'] >= 20:\n",
    "        birth.loc[row, 'n_cigs'] = 20\n",
    "    elif birth.loc[row, 'cigs'] < 20:\n",
    "        birth.loc[row, 'n_cigs'] = birth.loc[row, 'cigs']\n",
    "    else:\n",
    "        print('Error')\n",
    "        \n",
    "        \n",
    "for row, col in birth.iterrows():\n",
    "    if birth.loc[row, 'drink'] >= 10:\n",
    "        birth.loc[row, 'n_drink'] = 10\n",
    "    elif birth.loc[row, 'drink'] < 20:\n",
    "        birth.loc[row, 'n_drink'] = birth.loc[row, 'drink']\n",
    "    else:\n",
    "        print('Error')\n",
    "\n",
    "for row, col in birth.iterrows():\n",
    "    if birth.loc[row, 'npvis'] >= 3:\n",
    "        birth.loc[row, 'n_npvis'] = 3\n",
    "    elif birth.loc[row, 'npvis'] < 3:\n",
    "        birth.loc[row, 'n_npvis'] = birth.loc[row, 'npvis']\n",
    "    else:\n",
    "        print('Error')\n",
    "        \n"
   ]
  },
  {
   "cell_type": "code",
   "execution_count": 27,
   "id": "b719418f",
   "metadata": {},
   "outputs": [
    {
     "data": {
      "text/plain": [
       "mage              0\n",
       "meduc             0\n",
       "monpre            0\n",
       "npvis             0\n",
       "fage              0\n",
       "feduc             0\n",
       "omaps             0\n",
       "fmaps             0\n",
       "cigs              0\n",
       "drink             0\n",
       "male              0\n",
       "mwhte             0\n",
       "mblck             0\n",
       "moth              0\n",
       "fwhte             0\n",
       "fblck             0\n",
       "foth              0\n",
       "bwght             0\n",
       "log_cigs          0\n",
       "log_drink         0\n",
       "mage_cigs         0\n",
       "meduc_npvis       0\n",
       "log_bwght         0\n",
       "mage_drink        0\n",
       "cigs_drink        0\n",
       "mwhte_cigs        0\n",
       "moth_cigs         0\n",
       "log_monpre        0\n",
       "log_cigs_drink    0\n",
       "log_feduc         0\n",
       "log_meduc         0\n",
       "n_cigs            0\n",
       "n_drink           0\n",
       "n_mage            0\n",
       "n_npvis           0\n",
       "dtype: int64"
      ]
     },
     "execution_count": 27,
     "metadata": {},
     "output_type": "execute_result"
    }
   ],
   "source": [
    "#Checking that every data set has all the values\n",
    "birth.isnull().sum()"
   ]
  },
  {
   "cell_type": "code",
   "execution_count": 28,
   "id": "df08f137",
   "metadata": {},
   "outputs": [
    {
     "name": "stdout",
     "output_type": "stream",
     "text": [
      "mage +\n",
      "meduc +\n",
      "monpre +\n",
      "npvis +\n",
      "fage +\n",
      "feduc +\n",
      "omaps +\n",
      "fmaps +\n",
      "cigs +\n",
      "drink +\n",
      "male +\n",
      "mwhte +\n",
      "mblck +\n",
      "moth +\n",
      "fwhte +\n",
      "fblck +\n",
      "foth +\n",
      "log_cigs +\n",
      "log_drink +\n",
      "mage_cigs +\n",
      "meduc_npvis +\n",
      "log_bwght +\n",
      "mage_drink +\n",
      "cigs_drink +\n",
      "mwhte_cigs +\n",
      "moth_cigs +\n",
      "log_monpre +\n",
      "log_cigs_drink +\n",
      "log_feduc +\n",
      "log_meduc +\n",
      "n_cigs +\n",
      "n_drink +\n",
      "n_mage +\n",
      "n_npvis +\n"
     ]
    }
   ],
   "source": [
    "# making a copy of housing\n",
    "birth_explanatory = birth.copy()\n",
    "\n",
    "\n",
    "# dropping SalePrice and Order from the explanatory variable set\n",
    "birth_explanatory = birth.drop(['bwght'], axis = 1)\n",
    "\n",
    "\n",
    "# formatting each explanatory variable for statsmodels\n",
    "for val in birth_explanatory:\n",
    "    print(f\"{val} +\")"
   ]
  },
  {
   "cell_type": "code",
   "execution_count": 29,
   "id": "a8093694",
   "metadata": {},
   "outputs": [],
   "source": [
    "#Setting up the x-variables and the y-variable\n",
    "birth_data   = birth.drop(['bwght',\n",
    "                           'log_bwght'], axis = 1)\n",
    "birth_target = birth.loc [ :, 'bwght' ]\n",
    "birth_target_log = birth.loc[:, 'log_bwght']"
   ]
  },
  {
   "cell_type": "code",
   "execution_count": 30,
   "id": "09580729",
   "metadata": {},
   "outputs": [
    {
     "data": {
      "text/html": [
       "<table class=\"simpletable\">\n",
       "<caption>OLS Regression Results</caption>\n",
       "<tr>\n",
       "  <th>Dep. Variable:</th>          <td>bwght</td>      <th>  R-squared:         </th> <td>   0.770</td>\n",
       "</tr>\n",
       "<tr>\n",
       "  <th>Model:</th>                   <td>OLS</td>       <th>  Adj. R-squared:    </th> <td>   0.731</td>\n",
       "</tr>\n",
       "<tr>\n",
       "  <th>Method:</th>             <td>Least Squares</td>  <th>  F-statistic:       </th> <td>   19.96</td>\n",
       "</tr>\n",
       "<tr>\n",
       "  <th>Date:</th>             <td>Wed, 24 Nov 2021</td> <th>  Prob (F-statistic):</th> <td>7.90e-40</td>\n",
       "</tr>\n",
       "<tr>\n",
       "  <th>Time:</th>                 <td>01:28:24</td>     <th>  Log-Likelihood:    </th> <td> -1402.1</td>\n",
       "</tr>\n",
       "<tr>\n",
       "  <th>No. Observations:</th>      <td>   196</td>      <th>  AIC:               </th> <td>   2862.</td>\n",
       "</tr>\n",
       "<tr>\n",
       "  <th>Df Residuals:</th>          <td>   167</td>      <th>  BIC:               </th> <td>   2957.</td>\n",
       "</tr>\n",
       "<tr>\n",
       "  <th>Df Model:</th>              <td>    28</td>      <th>                     </th>     <td> </td>   \n",
       "</tr>\n",
       "<tr>\n",
       "  <th>Covariance Type:</th>      <td>nonrobust</td>    <th>                     </th>     <td> </td>   \n",
       "</tr>\n",
       "</table>\n",
       "<table class=\"simpletable\">\n",
       "<tr>\n",
       "         <td></td>           <th>coef</th>     <th>std err</th>      <th>t</th>      <th>P>|t|</th>  <th>[0.025</th>    <th>0.975]</th>  \n",
       "</tr>\n",
       "<tr>\n",
       "  <th>Intercept</th>      <td>  670.6519</td> <td> 2188.611</td> <td>    0.306</td> <td> 0.760</td> <td>-3650.259</td> <td> 4991.562</td>\n",
       "</tr>\n",
       "<tr>\n",
       "  <th>mage</th>           <td>  -36.8748</td> <td>   11.766</td> <td>   -3.134</td> <td> 0.002</td> <td>  -60.104</td> <td>  -13.646</td>\n",
       "</tr>\n",
       "<tr>\n",
       "  <th>meduc</th>          <td>   61.3710</td> <td>  104.612</td> <td>    0.587</td> <td> 0.558</td> <td> -145.162</td> <td>  267.904</td>\n",
       "</tr>\n",
       "<tr>\n",
       "  <th>monpre</th>         <td>   -9.9582</td> <td>   57.248</td> <td>   -0.174</td> <td> 0.862</td> <td> -122.980</td> <td>  103.064</td>\n",
       "</tr>\n",
       "<tr>\n",
       "  <th>npvis</th>          <td>  -30.3974</td> <td>   52.190</td> <td>   -0.582</td> <td> 0.561</td> <td> -133.434</td> <td>   72.640</td>\n",
       "</tr>\n",
       "<tr>\n",
       "  <th>fage</th>           <td>   -3.4348</td> <td>    3.682</td> <td>   -0.933</td> <td> 0.352</td> <td>  -10.704</td> <td>    3.835</td>\n",
       "</tr>\n",
       "<tr>\n",
       "  <th>feduc</th>          <td>  -16.4936</td> <td>   27.927</td> <td>   -0.591</td> <td> 0.556</td> <td>  -71.630</td> <td>   38.643</td>\n",
       "</tr>\n",
       "<tr>\n",
       "  <th>cigs</th>           <td>    8.8811</td> <td>   52.669</td> <td>    0.169</td> <td> 0.866</td> <td>  -95.102</td> <td>  112.864</td>\n",
       "</tr>\n",
       "<tr>\n",
       "  <th>drink</th>          <td> -162.5929</td> <td>  114.184</td> <td>   -1.424</td> <td> 0.156</td> <td> -388.023</td> <td>   62.837</td>\n",
       "</tr>\n",
       "<tr>\n",
       "  <th>male</th>           <td>   61.8877</td> <td>   53.187</td> <td>    1.164</td> <td> 0.246</td> <td>  -43.118</td> <td>  166.893</td>\n",
       "</tr>\n",
       "<tr>\n",
       "  <th>mwhte</th>          <td>  417.1097</td> <td>  763.916</td> <td>    0.546</td> <td> 0.586</td> <td>-1091.067</td> <td> 1925.286</td>\n",
       "</tr>\n",
       "<tr>\n",
       "  <th>mblck</th>          <td>  122.9813</td> <td>  752.937</td> <td>    0.163</td> <td> 0.870</td> <td>-1363.521</td> <td> 1609.483</td>\n",
       "</tr>\n",
       "<tr>\n",
       "  <th>moth</th>           <td>  130.5609</td> <td>  741.338</td> <td>    0.176</td> <td> 0.860</td> <td>-1333.040</td> <td> 1594.162</td>\n",
       "</tr>\n",
       "<tr>\n",
       "  <th>fwhte</th>          <td>  197.4453</td> <td>  729.175</td> <td>    0.271</td> <td> 0.787</td> <td>-1242.144</td> <td> 1637.035</td>\n",
       "</tr>\n",
       "<tr>\n",
       "  <th>fblck</th>          <td>  273.9107</td> <td>  731.645</td> <td>    0.374</td> <td> 0.709</td> <td>-1170.555</td> <td> 1718.377</td>\n",
       "</tr>\n",
       "<tr>\n",
       "  <th>foth</th>           <td>  199.2958</td> <td>  739.174</td> <td>    0.270</td> <td> 0.788</td> <td>-1260.034</td> <td> 1658.626</td>\n",
       "</tr>\n",
       "<tr>\n",
       "  <th>log_cigs</th>       <td>  -24.3335</td> <td>   19.135</td> <td>   -1.272</td> <td> 0.205</td> <td>  -62.111</td> <td>   13.444</td>\n",
       "</tr>\n",
       "<tr>\n",
       "  <th>log_drink</th>      <td>   19.3895</td> <td>   17.494</td> <td>    1.108</td> <td> 0.269</td> <td>  -15.149</td> <td>   53.928</td>\n",
       "</tr>\n",
       "<tr>\n",
       "  <th>mage_cigs</th>      <td>   -0.2370</td> <td>    0.459</td> <td>   -0.516</td> <td> 0.607</td> <td>   -1.144</td> <td>    0.670</td>\n",
       "</tr>\n",
       "<tr>\n",
       "  <th>meduc_npvis</th>    <td>   30.9736</td> <td>   52.638</td> <td>    0.588</td> <td> 0.557</td> <td>  -72.948</td> <td>  134.895</td>\n",
       "</tr>\n",
       "<tr>\n",
       "  <th>n_cigs</th>         <td>   -8.4718</td> <td>   45.999</td> <td>   -0.184</td> <td> 0.854</td> <td>  -99.287</td> <td>   82.343</td>\n",
       "</tr>\n",
       "<tr>\n",
       "  <th>n_drink</th>        <td>   -1.9019</td> <td>   82.702</td> <td>   -0.023</td> <td> 0.982</td> <td> -165.178</td> <td>  161.374</td>\n",
       "</tr>\n",
       "<tr>\n",
       "  <th>n_npvis</th>        <td> 1300.6788</td> <td>  416.452</td> <td>    3.123</td> <td> 0.002</td> <td>  478.489</td> <td> 2122.869</td>\n",
       "</tr>\n",
       "<tr>\n",
       "  <th>log_feduc</th>      <td>  241.1557</td> <td>  196.184</td> <td>    1.229</td> <td> 0.221</td> <td> -146.165</td> <td>  628.477</td>\n",
       "</tr>\n",
       "<tr>\n",
       "  <th>mage_drink</th>     <td>    1.9928</td> <td>    1.136</td> <td>    1.753</td> <td> 0.081</td> <td>   -0.251</td> <td>    4.237</td>\n",
       "</tr>\n",
       "<tr>\n",
       "  <th>cigs_drink</th>     <td>   -3.1369</td> <td>    1.773</td> <td>   -1.769</td> <td> 0.079</td> <td>   -6.638</td> <td>    0.364</td>\n",
       "</tr>\n",
       "<tr>\n",
       "  <th>mwhte_cigs</th>     <td>  -12.7563</td> <td>   14.666</td> <td>   -0.870</td> <td> 0.386</td> <td>  -41.710</td> <td>   16.198</td>\n",
       "</tr>\n",
       "<tr>\n",
       "  <th>moth_cigs</th>      <td>   -0.0475</td> <td>   10.853</td> <td>   -0.004</td> <td> 0.997</td> <td>  -21.475</td> <td>   21.380</td>\n",
       "</tr>\n",
       "<tr>\n",
       "  <th>log_monpre</th>     <td>   81.5677</td> <td>  146.545</td> <td>    0.557</td> <td> 0.579</td> <td> -207.751</td> <td>  370.887</td>\n",
       "</tr>\n",
       "<tr>\n",
       "  <th>log_cigs_drink</th> <td>   -6.4885</td> <td>   48.397</td> <td>   -0.134</td> <td> 0.894</td> <td> -102.037</td> <td>   89.060</td>\n",
       "</tr>\n",
       "<tr>\n",
       "  <th>log_meduc</th>      <td> -812.3661</td> <td> 2127.063</td> <td>   -0.382</td> <td> 0.703</td> <td>-5011.766</td> <td> 3387.034</td>\n",
       "</tr>\n",
       "<tr>\n",
       "  <th>n_mage</th>         <td>   29.0852</td> <td>   10.620</td> <td>    2.739</td> <td> 0.007</td> <td>    8.118</td> <td>   50.052</td>\n",
       "</tr>\n",
       "</table>\n",
       "<table class=\"simpletable\">\n",
       "<tr>\n",
       "  <th>Omnibus:</th>       <td> 3.425</td> <th>  Durbin-Watson:     </th> <td>   1.362</td>\n",
       "</tr>\n",
       "<tr>\n",
       "  <th>Prob(Omnibus):</th> <td> 0.180</td> <th>  Jarque-Bera (JB):  </th> <td>   3.081</td>\n",
       "</tr>\n",
       "<tr>\n",
       "  <th>Skew:</th>          <td> 0.226</td> <th>  Prob(JB):          </th> <td>   0.214</td>\n",
       "</tr>\n",
       "<tr>\n",
       "  <th>Kurtosis:</th>      <td> 3.416</td> <th>  Cond. No.          </th> <td>1.19e+16</td>\n",
       "</tr>\n",
       "</table><br/><br/>Notes:<br/>[1] Standard Errors assume that the covariance matrix of the errors is correctly specified.<br/>[2] The smallest eigenvalue is 5.16e-25. This might indicate that there are<br/>strong multicollinearity problems or that the design matrix is singular."
      ],
      "text/plain": [
       "<class 'statsmodels.iolib.summary.Summary'>\n",
       "\"\"\"\n",
       "                            OLS Regression Results                            \n",
       "==============================================================================\n",
       "Dep. Variable:                  bwght   R-squared:                       0.770\n",
       "Model:                            OLS   Adj. R-squared:                  0.731\n",
       "Method:                 Least Squares   F-statistic:                     19.96\n",
       "Date:                Wed, 24 Nov 2021   Prob (F-statistic):           7.90e-40\n",
       "Time:                        01:28:24   Log-Likelihood:                -1402.1\n",
       "No. Observations:                 196   AIC:                             2862.\n",
       "Df Residuals:                     167   BIC:                             2957.\n",
       "Df Model:                          28                                         \n",
       "Covariance Type:            nonrobust                                         \n",
       "==================================================================================\n",
       "                     coef    std err          t      P>|t|      [0.025      0.975]\n",
       "----------------------------------------------------------------------------------\n",
       "Intercept        670.6519   2188.611      0.306      0.760   -3650.259    4991.562\n",
       "mage             -36.8748     11.766     -3.134      0.002     -60.104     -13.646\n",
       "meduc             61.3710    104.612      0.587      0.558    -145.162     267.904\n",
       "monpre            -9.9582     57.248     -0.174      0.862    -122.980     103.064\n",
       "npvis            -30.3974     52.190     -0.582      0.561    -133.434      72.640\n",
       "fage              -3.4348      3.682     -0.933      0.352     -10.704       3.835\n",
       "feduc            -16.4936     27.927     -0.591      0.556     -71.630      38.643\n",
       "cigs               8.8811     52.669      0.169      0.866     -95.102     112.864\n",
       "drink           -162.5929    114.184     -1.424      0.156    -388.023      62.837\n",
       "male              61.8877     53.187      1.164      0.246     -43.118     166.893\n",
       "mwhte            417.1097    763.916      0.546      0.586   -1091.067    1925.286\n",
       "mblck            122.9813    752.937      0.163      0.870   -1363.521    1609.483\n",
       "moth             130.5609    741.338      0.176      0.860   -1333.040    1594.162\n",
       "fwhte            197.4453    729.175      0.271      0.787   -1242.144    1637.035\n",
       "fblck            273.9107    731.645      0.374      0.709   -1170.555    1718.377\n",
       "foth             199.2958    739.174      0.270      0.788   -1260.034    1658.626\n",
       "log_cigs         -24.3335     19.135     -1.272      0.205     -62.111      13.444\n",
       "log_drink         19.3895     17.494      1.108      0.269     -15.149      53.928\n",
       "mage_cigs         -0.2370      0.459     -0.516      0.607      -1.144       0.670\n",
       "meduc_npvis       30.9736     52.638      0.588      0.557     -72.948     134.895\n",
       "n_cigs            -8.4718     45.999     -0.184      0.854     -99.287      82.343\n",
       "n_drink           -1.9019     82.702     -0.023      0.982    -165.178     161.374\n",
       "n_npvis         1300.6788    416.452      3.123      0.002     478.489    2122.869\n",
       "log_feduc        241.1557    196.184      1.229      0.221    -146.165     628.477\n",
       "mage_drink         1.9928      1.136      1.753      0.081      -0.251       4.237\n",
       "cigs_drink        -3.1369      1.773     -1.769      0.079      -6.638       0.364\n",
       "mwhte_cigs       -12.7563     14.666     -0.870      0.386     -41.710      16.198\n",
       "moth_cigs         -0.0475     10.853     -0.004      0.997     -21.475      21.380\n",
       "log_monpre        81.5677    146.545      0.557      0.579    -207.751     370.887\n",
       "log_cigs_drink    -6.4885     48.397     -0.134      0.894    -102.037      89.060\n",
       "log_meduc       -812.3661   2127.063     -0.382      0.703   -5011.766    3387.034\n",
       "n_mage            29.0852     10.620      2.739      0.007       8.118      50.052\n",
       "==============================================================================\n",
       "Omnibus:                        3.425   Durbin-Watson:                   1.362\n",
       "Prob(Omnibus):                  0.180   Jarque-Bera (JB):                3.081\n",
       "Skew:                           0.226   Prob(JB):                        0.214\n",
       "Kurtosis:                       3.416   Cond. No.                     1.19e+16\n",
       "==============================================================================\n",
       "\n",
       "Notes:\n",
       "[1] Standard Errors assume that the covariance matrix of the errors is correctly specified.\n",
       "[2] The smallest eigenvalue is 5.16e-25. This might indicate that there are\n",
       "strong multicollinearity problems or that the design matrix is singular.\n",
       "\"\"\""
      ]
     },
     "execution_count": 30,
     "metadata": {},
     "output_type": "execute_result"
    }
   ],
   "source": [
    "#Applying a linear regression using statsmoddel to check the P-values with\n",
    "#the new variables that where created\n",
    "lm_best = smf.ols(formula = \"\"\" bwght ~ mage +\n",
    "                                        meduc +\n",
    "                                        monpre +\n",
    "                                        npvis +\n",
    "                                        fage +\n",
    "                                        feduc +\n",
    "                                        cigs +\n",
    "                                        drink +\n",
    "                                        male +\n",
    "                                        mwhte +\n",
    "                                        mblck +\n",
    "                                        moth +\n",
    "                                        fwhte +\n",
    "                                        fblck +\n",
    "                                        foth +\n",
    "                                        log_cigs +\n",
    "                                        log_drink +\n",
    "                                        mage_cigs +\n",
    "                                        meduc_npvis +\n",
    "                                        n_cigs +\n",
    "                                        n_drink +\n",
    "                                        n_npvis +\n",
    "                                        log_feduc +\n",
    "                                        mage_drink +\n",
    "                                        cigs_drink +\n",
    "                                        mwhte_cigs +\n",
    "                                        moth_cigs +\n",
    "                                        log_monpre +\n",
    "                                        log_cigs_drink +\n",
    "                                        log_meduc +\n",
    "                                        n_mage \"\"\",\n",
    "                  \n",
    "                                     data = birth)\n",
    "\n",
    "results = lm_best.fit()\n",
    "\n",
    "results.summary()"
   ]
  },
  {
   "cell_type": "markdown",
   "id": "be255727",
   "metadata": {},
   "source": [
    "# Preparing the data for the different models on regression"
   ]
  },
  {
   "cell_type": "code",
   "execution_count": 31,
   "id": "1b05c019",
   "metadata": {},
   "outputs": [],
   "source": [
    "#Setting up the x-variables for the next regression\n",
    "X_birth = birth.loc[:,['drink','fage','cigs','n_npvis',\n",
    "                           'log_meduc','n_mage' ] ]\n",
    "#Setting the y-variable\n",
    "y_birth = birth.loc[ :, 'bwght']"
   ]
  },
  {
   "cell_type": "code",
   "execution_count": 32,
   "id": "9f84f7c6",
   "metadata": {},
   "outputs": [],
   "source": [
    "#Doing the split for the train regression\n",
    "X_train, X_test, y_train, y_test = train_test_split(X_birth, y_birth, \n",
    "                                                    test_size = 0.25, random_state = 219)"
   ]
  },
  {
   "cell_type": "code",
   "execution_count": 33,
   "id": "963ba764",
   "metadata": {},
   "outputs": [
    {
     "name": "stdout",
     "output_type": "stream",
     "text": [
      "                            OLS Regression Results                            \n",
      "==============================================================================\n",
      "Dep. Variable:                  bwght   R-squared:                       0.727\n",
      "Model:                            OLS   Adj. R-squared:                  0.715\n",
      "Method:                 Least Squares   F-statistic:                     62.13\n",
      "Date:                Wed, 24 Nov 2021   Prob (F-statistic):           4.68e-37\n",
      "Time:                        01:28:24   Log-Likelihood:                -1069.2\n",
      "No. Observations:                 147   AIC:                             2152.\n",
      "Df Residuals:                     140   BIC:                             2173.\n",
      "Df Model:                           6                                         \n",
      "Covariance Type:            nonrobust                                         \n",
      "==============================================================================\n",
      "                 coef    std err          t      P>|t|      [0.025      0.975]\n",
      "------------------------------------------------------------------------------\n",
      "Intercept   -597.2159   1271.228     -0.470      0.639   -3110.502    1916.071\n",
      "drink       -115.1206     10.914    -10.548      0.000    -136.697     -93.544\n",
      "fage          -8.1602      3.758     -2.171      0.032     -15.590      -0.730\n",
      "cigs         -36.6642      5.232     -7.008      0.000     -47.008     -26.320\n",
      "n_npvis     1554.9692    369.397      4.209      0.000     824.651    2285.287\n",
      "log_meduc    394.3713    200.230      1.970      0.051      -1.494     790.236\n",
      "n_mage       -10.4717      5.285     -1.982      0.049     -20.920      -0.024\n",
      "==============================================================================\n",
      "Omnibus:                        2.023   Durbin-Watson:                   1.948\n",
      "Prob(Omnibus):                  0.364   Jarque-Bera (JB):                1.558\n",
      "Skew:                           0.185   Prob(JB):                        0.459\n",
      "Kurtosis:                       3.344   Cond. No.                     2.55e+03\n",
      "==============================================================================\n",
      "\n",
      "Notes:\n",
      "[1] Standard Errors assume that the covariance matrix of the errors is correctly specified.\n",
      "[2] The condition number is large, 2.55e+03. This might indicate that there are\n",
      "strong multicollinearity or other numerical problems.\n"
     ]
    }
   ],
   "source": [
    "# merging X_train and y_train so that they can be used in statsmodels\n",
    "birth_train = pd.concat([X_train, y_train], axis = 1)\n",
    "\n",
    "lm_best = smf.ols(formula =  \"\"\"bwght ~ drink +\n",
    "                                        \n",
    "                                        fage +\n",
    "                                        cigs +\n",
    "                                        n_npvis +\n",
    "                                        log_meduc +\n",
    "                                        n_mage\n",
    "                                        \"\"\",\n",
    "                  data = birth_train)\n",
    "\n",
    "\n",
    "# Step 2: fit the model based on the data\n",
    "results = lm_best.fit()\n",
    "\n",
    "\n",
    "\n",
    "# Step 3: analyze the summary output\n",
    "print(results.summary())"
   ]
  },
  {
   "cell_type": "code",
   "execution_count": 34,
   "id": "999652f4",
   "metadata": {},
   "outputs": [],
   "source": [
    "# preparing x-variables from the OLS model\n",
    "ols_data = birth.loc[:,['drink','fage','cigs','n_npvis',\n",
    "                           'log_meduc','n_mage']]\n",
    "\n",
    "\n",
    "# preparing response variable\n",
    "birth_target = birth.loc[:,'bwght']\n",
    "\n",
    "\n",
    "###############################################\n",
    "## setting up more than one train-test split ##\n",
    "###############################################\n",
    "# FULL X-dataset (normal Y)\n",
    "X_train, X_test, y_train, y_test = train_test_split(\n",
    "            ols_data,     # x-variables\n",
    "            birth_target,   # y-variable\n",
    "            test_size = 0.25,\n",
    "            random_state = 219)\n",
    "\n"
   ]
  },
  {
   "cell_type": "code",
   "execution_count": 35,
   "id": "918387a3",
   "metadata": {},
   "outputs": [
    {
     "name": "stdout",
     "output_type": "stream",
     "text": [
      "OLS Training Score : 0.727\n",
      "OLS Testing Score  : 0.6918\n",
      "OLS Train-Test Gap : 0.0352\n"
     ]
    }
   ],
   "source": [
    "lr = LinearRegression()\n",
    "\n",
    "\n",
    "# FITTING to the training data\n",
    "lr_fit = lr.fit(X_train, y_train)\n",
    "\n",
    "\n",
    "# PREDICTING on new data\n",
    "lr_pred = lr_fit.predict(X_test)\n",
    "\n",
    "lr_train_score = lr.score(X_train, y_train).round(4)\n",
    "lr_test_score = lr.score(X_test, y_test).round(4)\n",
    "\n",
    "# SCORING the results\n",
    "print('OLS Training Score :', lr.score(X_train, y_train).round(4))  # using R-square\n",
    "print('OLS Testing Score  :',  lr.score(X_test, y_test).round(4)) # using R-square\n",
    "\n",
    "# displaying and saving the gap between training and testing\n",
    "print('OLS Train-Test Gap :', abs(lr_train_score - lr_test_score).round(4))\n",
    "lr_test_gap = abs(lr_train_score - lr_test_score).round(4)"
   ]
  },
  {
   "cell_type": "code",
   "execution_count": 36,
   "id": "d4deb82a",
   "metadata": {},
   "outputs": [],
   "source": [
    "#Import sklearn library \n",
    "import sklearn.linear_model\n",
    "\n",
    "#Setting up the x-variables for the lasso model\n",
    "lasso_birth = birth.loc[: , ['drink', 'mwhte','fage','cigs','n_npvis',\n",
    "                           'log_meduc','n_mage']]\n",
    "\n",
    "#Setting the y-variable \n",
    "lasso_target = birth.loc[:, 'bwght']\n",
    "\n",
    "#Creating the train_test_split\n",
    "X_train, X_test, y_train, y_test = train_test_split(lasso_birth, lasso_target, \n",
    "                                                    test_size = 0.25, \n",
    "                                                    random_state = 219)"
   ]
  },
  {
   "cell_type": "code",
   "execution_count": 37,
   "id": "f76d1d63",
   "metadata": {},
   "outputs": [
    {
     "name": "stdout",
     "output_type": "stream",
     "text": [
      "Lasso Training Score : 0.7267\n",
      "Lasso Testing Score  : 0.6927\n",
      "Lasso Train-Test Gap : 0.034\n"
     ]
    }
   ],
   "source": [
    "# INSTANTIATING a model object\n",
    "lasso_model = sklearn.linear_model.Lasso() # default magitude\n",
    "\n",
    "\n",
    "# FITTING to the training data\n",
    "lasso_fit = lasso_model.fit(X_train, y_train)\n",
    "\n",
    "\n",
    "# PREDICTING on new data\n",
    "lasso_pred = lasso_fit.predict(X_test)\n",
    "\n",
    "\n",
    "# SCORING the results\n",
    "print('Lasso Training Score :', lasso_model.score(X_train, y_train).round(4))\n",
    "print('Lasso Testing Score  :', lasso_model.score(X_test, y_test).round(4))\n",
    "\n",
    "\n",
    "## the following code has been provided for you ##\n",
    "\n",
    "# saving scoring data for future use\n",
    "lasso_train_score = lasso_model.score(X_train, y_train).round(4) # using R-square\n",
    "lasso_test_score  = lasso_model.score(X_test, y_test).round(4)   # using R-square\n",
    "\n",
    "\n",
    "# displaying and saving the gap between training and testing\n",
    "print('Lasso Train-Test Gap :', abs(lasso_train_score - lasso_test_score).round(4))\n",
    "lasso_test_gap = abs(lasso_train_score - lasso_test_score).round(4)"
   ]
  },
  {
   "cell_type": "code",
   "execution_count": 38,
   "id": "9fb5a8cd",
   "metadata": {},
   "outputs": [],
   "source": [
    "#Setting the x-variables for the ard model \n",
    "ard_birth = birth.loc[: , ['drink', 'mwhte','fage','cigs','n_npvis',\n",
    "                           'log_meduc','n_mage']]\n",
    "\n",
    "#Setting the y-variable\n",
    "ard_target = birth.loc[:, 'bwght']\n",
    "\n",
    "#Creating the train_test_split\n",
    "X_train, X_test, y_train, y_test = train_test_split(ard_birth, ard_target, \n",
    "                                                    test_size = 0.25, \n",
    "                                                    random_state = 219)"
   ]
  },
  {
   "cell_type": "code",
   "execution_count": 39,
   "id": "7c5c490b",
   "metadata": {},
   "outputs": [
    {
     "name": "stdout",
     "output_type": "stream",
     "text": [
      "Training Score: 0.7261\n",
      "Testing Score : 0.7033\n",
      "ARD Train-Test Gap : 0.0228\n"
     ]
    }
   ],
   "source": [
    "# INSTANTIATING a model object\n",
    "ard_model = sklearn.linear_model.ARDRegression()\n",
    "\n",
    "\n",
    "# FITTING the training data\n",
    "ard_fit = ard_model.fit(X_train, y_train)\n",
    "\n",
    "\n",
    "# PREDICTING on new data\n",
    "ard_pred = ard_fit.predict(X_test)\n",
    "\n",
    "\n",
    "print('Training Score:', ard_model.score(X_train, y_train).round(4))\n",
    "print('Testing Score :', ard_model.score(X_test, y_test).round(4))\n",
    "\n",
    "\n",
    "# saving scoring data for future use\n",
    "ard_train_score = ard_model.score(X_train, y_train).round(4)\n",
    "ard_test_score  = ard_model.score(X_test, y_test).round(4)\n",
    "\n",
    "\n",
    "# displaying and saving the gap between training and testing\n",
    "print('ARD Train-Test Gap :', abs(ard_train_score - ard_test_score).round(4))\n",
    "ard_test_gap = abs(ard_train_score - ard_test_score).round(4)"
   ]
  },
  {
   "cell_type": "code",
   "execution_count": 40,
   "id": "48b6aa33",
   "metadata": {
    "scrolled": true
   },
   "outputs": [
    {
     "name": "stdout",
     "output_type": "stream",
     "text": [
      "\n",
      "Model                Train Score      Test Score      Train-Test Gap\n",
      "-----                 -----------      ----------     --------------\n",
      "OLS                      0.727           0.6918           0.0352\n",
      "Lasso                    0.7267          0.6927           0.034\n",
      "ARD (Best Model)         0.7261          0.7033           0.0228\n",
      "\n"
     ]
    }
   ],
   "source": [
    "#Comparing the results of the different models \n",
    "print(f\"\"\"\n",
    "Model                Train Score      Test Score      Train-Test Gap\n",
    "-----                 -----------      ----------     --------------\n",
    "OLS                      {lr_train_score}           {lr_test_score}           {lr_test_gap}\n",
    "Lasso                    {lasso_train_score}          {lasso_test_score}           {lasso_test_gap}\n",
    "ARD (Best Model)         {ard_train_score}          {ard_test_score}           {ard_test_gap}\n",
    "\"\"\")\n"
   ]
  },
  {
   "cell_type": "code",
   "execution_count": null,
   "id": "31be9cb3",
   "metadata": {},
   "outputs": [],
   "source": []
  }
 ],
 "metadata": {
  "kernelspec": {
   "display_name": "Python 3 (ipykernel)",
   "language": "python",
   "name": "python3"
  },
  "language_info": {
   "codemirror_mode": {
    "name": "ipython",
    "version": 3
   },
   "file_extension": ".py",
   "mimetype": "text/x-python",
   "name": "python",
   "nbconvert_exporter": "python",
   "pygments_lexer": "ipython3",
   "version": "3.8.8"
  },
  "toc": {
   "base_numbering": 1,
   "nav_menu": {},
   "number_sections": true,
   "sideBar": true,
   "skip_h1_title": false,
   "title_cell": "Table of Contents",
   "title_sidebar": "Contents",
   "toc_cell": false,
   "toc_position": {},
   "toc_section_display": true,
   "toc_window_display": false
  },
  "varInspector": {
   "cols": {
    "lenName": 16,
    "lenType": 16,
    "lenVar": 40
   },
   "kernels_config": {
    "python": {
     "delete_cmd_postfix": "",
     "delete_cmd_prefix": "del ",
     "library": "var_list.py",
     "varRefreshCmd": "print(var_dic_list())"
    },
    "r": {
     "delete_cmd_postfix": ") ",
     "delete_cmd_prefix": "rm(",
     "library": "var_list.r",
     "varRefreshCmd": "cat(var_dic_list()) "
    }
   },
   "types_to_exclude": [
    "module",
    "function",
    "builtin_function_or_method",
    "instance",
    "_Feature"
   ],
   "window_display": false
  }
 },
 "nbformat": 4,
 "nbformat_minor": 5
}
